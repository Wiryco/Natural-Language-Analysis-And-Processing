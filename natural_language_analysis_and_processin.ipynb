{
  "nbformat": 4,
  "nbformat_minor": 0,
  "metadata": {
    "colab": {
      "provenance": [],
      "authorship_tag": "ABX9TyNHMfvkiOKl6tQvjqUhlYVO"
    },
    "kernelspec": {
      "name": "python3",
      "display_name": "Python 3"
    },
    "language_info": {
      "name": "python"
    }
  },
  "cells": [
    {
      "cell_type": "markdown",
      "source": [
        "# Motivação"
      ],
      "metadata": {
        "id": "c5RJByb39O_0"
      }
    },
    {
      "cell_type": "markdown",
      "source": [
        "O objetivo principal deste trabalho é estudar, entender e implementar as principais técnicas de análise e processamento de linguagem natural. Para que esse trabalho se torne possível, será necessário utilizar a biblioteca NLTK (Natural Language Toolkit) que possui ferramentas para realizar processamento simbólico e estatístico de linguagem natural.\n",
        "\n",
        "\n",
        "* [Dcumentation NLTK - Natural Language Toolkit](https://www.nltk.org)\n",
        "* [Natural Language Processing with Python Analyzing Text with the Natural Language Toolkit](https://www.nltk.org/book_1ed/)\n",
        "* [Processing Raw Text](https://www.nltk.org/book_1ed/ch03.html)"
      ],
      "metadata": {
        "id": "0g14nqo514cw"
      }
    },
    {
      "cell_type": "markdown",
      "source": [
        "# Importar bibliotecas necessárias"
      ],
      "metadata": {
        "id": "i50pq_qLpZVa"
      }
    },
    {
      "cell_type": "code",
      "execution_count": 1,
      "metadata": {
        "id": "CPekYEM7_-Tv"
      },
      "outputs": [],
      "source": [
        "import nltk"
      ]
    },
    {
      "cell_type": "markdown",
      "source": [
        "# Download de todos os componentes necessários da biblioteca NLTK"
      ],
      "metadata": {
        "id": "xJE-Br5speDc"
      }
    },
    {
      "cell_type": "code",
      "source": [
        "nltk.download('all')\n",
        "#nltk.download('stopwords')"
      ],
      "metadata": {
        "id": "T7FxOx6nCiXp"
      },
      "execution_count": null,
      "outputs": []
    },
    {
      "cell_type": "markdown",
      "source": [
        "# Criando as stopwords em português e inglês"
      ],
      "metadata": {
        "id": "pO-4jjdspkWC"
      }
    },
    {
      "cell_type": "code",
      "source": [
        "english_stopwords = nltk.corpus.stopwords.words('english')"
      ],
      "metadata": {
        "id": "9K3bnsyd28go"
      },
      "execution_count": 3,
      "outputs": []
    },
    {
      "cell_type": "code",
      "source": [
        "print(english_stopwords)"
      ],
      "metadata": {
        "id": "TNDuO29P1heb"
      },
      "execution_count": null,
      "outputs": []
    },
    {
      "cell_type": "code",
      "source": [
        "portuguese_stopwords = nltk.corpus.stopwords.words('portuguese')\n",
        "spanish_stopwords = nltk.corpus.stopwords.words('spanish')"
      ],
      "metadata": {
        "id": "gbnV3G2LjBEz"
      },
      "execution_count": 4,
      "outputs": []
    },
    {
      "cell_type": "code",
      "source": [
        "# Adiciona algumas stopwords em português para tratar algumas divergências analíticas\n",
        "add_stopwords_pt = ['capitulo', 'capítulo']\n",
        "portuguese_stopwords.extend(add_stopwords_pt)"
      ],
      "metadata": {
        "id": "_wUeiERCBAS4"
      },
      "execution_count": 5,
      "outputs": []
    },
    {
      "cell_type": "markdown",
      "source": [
        "# Criando a função de processamento de texto\n",
        "\n",
        "O objetivo dessa função e remover as quebras de linhas e alguns caracteres especiais que não foram removidos com o decode"
      ],
      "metadata": {
        "id": "D1zIYRgHp4yp"
      }
    },
    {
      "cell_type": "code",
      "source": [
        "import re\n",
        "\n",
        "def processing_text(str_text, _stopwords):\n",
        "  text_format = re.findall(r'\\b[A-zÀ-úü]+\\b', str_text.lower())\n",
        "\n",
        "  if _stopwords:\n",
        "    no_stopwords = [words for words in text_format if words not in _stopwords and not len(words) == 1]\n",
        "  else:\n",
        "    no_stopwords = text_format\n",
        "\n",
        "  return(' '.join(no_stopwords))"
      ],
      "metadata": {
        "id": "m8j3FqMSAr-1"
      },
      "execution_count": 6,
      "outputs": []
    },
    {
      "cell_type": "markdown",
      "source": [
        "# Escolhendo os textos a serem utilizados na função de processamento e realizar leitura de arquivos armazenados no Google Drive\n",
        "\n",
        "Foram utilizadas as os livros da escritora J. K. Rowling, especificamente a série do Harry Potter."
      ],
      "metadata": {
        "id": "bs6TurNFp-kv"
      }
    },
    {
      "cell_type": "markdown",
      "source": [
        "Para acessar os livros do Harry Potter que estão armazenados no Google Drive, vamos realizar a montagem do Drive para conseguir acessar como se fosse um repositório local de um PC.\n",
        "\n",
        "**PS: Vamos realizar a montagem apenas uma vez a cada execução do algoritmo, para não gastar processamento desnecessário.**"
      ],
      "metadata": {
        "id": "EtCPfxUF_sUn"
      }
    },
    {
      "cell_type": "code",
      "source": [
        "from google.colab import drive\n",
        "drive.mount('/content/drive')"
      ],
      "metadata": {
        "id": "46HQRQGS8jpd",
        "colab": {
          "base_uri": "https://localhost:8080/"
        },
        "outputId": "c04356db-df3b-4b66-f359-615ae7cf785b"
      },
      "execution_count": 7,
      "outputs": [
        {
          "output_type": "stream",
          "name": "stdout",
          "text": [
            "Mounted at /content/drive\n"
          ]
        }
      ]
    },
    {
      "cell_type": "markdown",
      "source": [
        "Acessando o repositório que foi montado no Google Drive para coletar a lista de todos os livros da pasta."
      ],
      "metadata": {
        "id": "bjifrBYeAPwh"
      }
    },
    {
      "cell_type": "code",
      "source": [
        "import os\n",
        "\n",
        "_path_books_drive = '/content/drive/MyDrive/Harry_Potter/'\n",
        "\n",
        "list_books_hp = sorted(os.listdir(_path_books_drive))\n",
        "\n",
        "list_books_hp"
      ],
      "metadata": {
        "id": "kBhGnp0B3Z7k",
        "colab": {
          "base_uri": "https://localhost:8080/"
        },
        "outputId": "e90a6315-cd8d-46ce-ef7f-3e46db0bd135"
      },
      "execution_count": 8,
      "outputs": [
        {
          "output_type": "execute_result",
          "data": {
            "text/plain": [
              "[\"Book 1 - The Philosopher's Stone.txt\",\n",
              " 'Book 2 - The Chamber of Secrets.txt',\n",
              " 'Book 3 - The Prisoner of Azkaban.txt',\n",
              " 'Book 4 - The Goblet of Fire.txt',\n",
              " 'Book 5 - The Order of the Phoenix.txt',\n",
              " 'Book 6 - The Half Blood Prince.txt',\n",
              " 'Book 7 - The Deathly Hallows.txt']"
            ]
          },
          "metadata": {},
          "execution_count": 8
        }
      ]
    },
    {
      "cell_type": "markdown",
      "source": [
        "Realizar a leitura de cada livro e passar o texto na função de processamento para remover pontuações e stopwords."
      ],
      "metadata": {
        "id": "UYfYsz5tAi3z"
      }
    },
    {
      "cell_type": "code",
      "source": [
        "books_hp_no_processed = []\n",
        "books_hp_processed = []\n",
        "_footer_removed = []\n",
        "\n",
        "for book in list_books_hp:\n",
        "  if book.endswith('.txt'):\n",
        "    with open(_path_books_drive + book, encoding='utf8') as f:\n",
        "      _book = ''\n",
        "      for line in f:\n",
        "        if not line.startswith(\"Page |\"):\n",
        "            _book += line\n",
        "        else:\n",
        "          _footer_removed.append(line)\n",
        "      \n",
        "      books_hp_no_processed.append(_book)\n",
        "      books_hp_processed.append(processing_text(_book, english_stopwords))"
      ],
      "metadata": {
        "id": "cb4V0Ym-8aAo"
      },
      "execution_count": 9,
      "outputs": []
    },
    {
      "cell_type": "markdown",
      "source": [
        "Print do texto sem processamento e com o processamento da função."
      ],
      "metadata": {
        "id": "MFEWiHUlA8R5"
      }
    },
    {
      "cell_type": "code",
      "source": [
        "books_hp_no_processed[0]"
      ],
      "metadata": {
        "id": "NnpPqtNs0Blg"
      },
      "execution_count": null,
      "outputs": []
    },
    {
      "cell_type": "code",
      "source": [
        "books_hp_processed[0]"
      ],
      "metadata": {
        "id": "BniutSGO3Uqb"
      },
      "execution_count": null,
      "outputs": []
    },
    {
      "cell_type": "code",
      "source": [
        "for i in _footer_removed:\n",
        "  if \"Goblet\" in i:\n",
        "    print(i)"
      ],
      "metadata": {
        "id": "AE9dV8UswrIu"
      },
      "execution_count": null,
      "outputs": []
    },
    {
      "cell_type": "markdown",
      "source": [
        "# Códigos de terminal baseados em Linux\n",
        "\n",
        "É possível utilizar comandos Linux para navegar pelo diretório depois que ele foi montado no comando acima."
      ],
      "metadata": {
        "id": "WggHX6vXj02L"
      }
    },
    {
      "cell_type": "code",
      "source": [
        "!dir /content/drive/MyDrive/Harry_Potter/"
      ],
      "metadata": {
        "colab": {
          "base_uri": "https://localhost:8080/"
        },
        "id": "r7fRWCl-jyq3",
        "outputId": "bccb7bda-6eef-4c24-fd63-9ab44d539958"
      },
      "execution_count": 11,
      "outputs": [
        {
          "output_type": "stream",
          "name": "stdout",
          "text": [
            "Book\\ 1\\ -\\ The\\ Philosopher's\\ Stone.txt\n",
            "Book\\ 2\\ -\\ The\\ Chamber\\ of\\ Secrets.txt\n",
            "Book\\ 3\\ -\\ The\\ Prisoner\\ of\\ Azkaban.txt\n",
            "Book\\ 4\\ -\\ The\\ Goblet\\ of\\ Fire.txt\n",
            "Book\\ 5\\ -\\ The\\ Order\\ of\\ the\\ Phoenix.txt\n",
            "Book\\ 6\\ -\\ The\\ Half\\ Blood\\ Prince.txt\n",
            "Book\\ 7\\ -\\ The\\ Deathly\\ Hallows.txt\n"
          ]
        }
      ]
    },
    {
      "cell_type": "markdown",
      "source": [
        "# Tokenização dos textos\n",
        "\n",
        "A tokenização, também conhecida como segmentação de palavras, é responsável por quebrar as palavras de cada texto analisado, ou seja, ele identifica o início e o término das palavras do texto e faz a divisão.\n",
        "\n",
        "- Exemplo sem tokenização: \"Harry Potter é a melhor série de todos os tempos\"\n",
        "\n",
        "- Texto tokenizado: \"Harry\", \"Potter\", \"é\", \"a\", \"melhor\", \"saga\", \"de\", \"todos\", \"os\", \"tempos\""
      ],
      "metadata": {
        "id": "uQ_zmMHYDCBB"
      }
    },
    {
      "cell_type": "code",
      "source": [
        "# Frase fornecida como \"input\"\n",
        "_str = 'Harry Potter é a melhor saga de todas!'\n",
        "\n",
        "# Função em python para realizar a tokenização, utilizando a biblioteca NLTK\n",
        "print(nltk.tokenize.word_tokenize(_str))\n",
        "\n",
        "# Tokenização fornecida como \"output\""
      ],
      "metadata": {
        "colab": {
          "base_uri": "https://localhost:8080/"
        },
        "id": "A6aL33qROXHP",
        "outputId": "226f72e1-782b-4e54-82f1-122894021507"
      },
      "execution_count": 12,
      "outputs": [
        {
          "output_type": "stream",
          "name": "stdout",
          "text": [
            "['Harry', 'Potter', 'é', 'a', 'melhor', 'saga', 'de', 'todas', '!']\n"
          ]
        }
      ]
    },
    {
      "cell_type": "code",
      "source": [
        "tokens_noprocess_hp_philosopher_stone = nltk.tokenize.word_tokenize(books_hp_no_processed[0])\n",
        "tokens_hp_philosopher_stone = nltk.tokenize.word_tokenize(books_hp_processed[0])"
      ],
      "metadata": {
        "id": "CukCdPl4yP2Z"
      },
      "execution_count": null,
      "outputs": []
    },
    {
      "cell_type": "code",
      "source": [
        "tokens_hp_philosopher_stone = nltk.tokenize.word_tokenize(books_hp_processed[0])\n",
        "tokens_hp_chamber_secrets = nltk.tokenize.word_tokenize(books_hp_processed[1])\n",
        "tokens_hp_azkaban = nltk.tokenize.word_tokenize(books_hp_processed[2])\n",
        "tokens_hp_goblet_fire = nltk.tokenize.word_tokenize(books_hp_processed[3])\n",
        "tokens_hp_phoenix = nltk.tokenize.word_tokenize(books_hp_processed[4])\n",
        "tokens_hp_prince = nltk.tokenize.word_tokenize(books_hp_processed[5])\n",
        "tokens_hp_hallows = nltk.tokenize.word_tokenize(books_hp_processed[6])"
      ],
      "metadata": {
        "id": "OGFXuEUIDIuO"
      },
      "execution_count": 13,
      "outputs": []
    },
    {
      "cell_type": "code",
      "source": [
        "print(tokens_noprocess_hp_philosopher_stone)\n",
        "print(tokens_hp_philosopher_stone)"
      ],
      "metadata": {
        "id": "88LYquI8CvdA"
      },
      "execution_count": null,
      "outputs": []
    },
    {
      "cell_type": "markdown",
      "source": [
        "# Análise de frequência de palavras\n",
        "\n",
        "Uma distribuição de frequência pode ser usada para registrar a frequência de cada tipo de palavra em um documento, ou seja, essa função tem por objetivo calcular a inscidencia de vezes que uma palavra foi mencionada em um texto, documento, string."
      ],
      "metadata": {
        "id": "hoLpTQtYDjLf"
      }
    },
    {
      "cell_type": "code",
      "source": [
        "prob_hp_philosopher_stone = nltk.probability.FreqDist(tokens_hp_philosopher_stone)\n",
        "prob_hp_chamber_secrets = nltk.probability.FreqDist(tokens_hp_chamber_secrets)\n",
        "prob_hp_azkaban = nltk.probability.FreqDist(tokens_hp_azkaban)\n",
        "prob_hp_goblet_fire = nltk.probability.FreqDist(tokens_hp_goblet_fire)\n",
        "prob_hp_phoenix = nltk.probability.FreqDist(tokens_hp_phoenix)\n",
        "prob_hp_prince = nltk.probability.FreqDist(tokens_hp_prince)\n",
        "prob_hp_hallows = nltk.probability.FreqDist(tokens_hp_hallows)"
      ],
      "metadata": {
        "id": "GcFtzWrxDvd3"
      },
      "execution_count": 14,
      "outputs": []
    },
    {
      "cell_type": "code",
      "source": [
        "prob_hp_noprocess_philosopher_stone = nltk.probability.FreqDist(tokens_noprocess_hp_philosopher_stone)\n",
        "prob_hp_philosopher_stone = nltk.probability.FreqDist(tokens_hp_philosopher_stone)"
      ],
      "metadata": {
        "id": "XwlcLz3VytTf",
        "colab": {
          "base_uri": "https://localhost:8080/",
          "height": 181
        },
        "outputId": "fb1e7594-ac9b-494e-ce34-99bc1ba4dab5"
      },
      "execution_count": 15,
      "outputs": [
        {
          "output_type": "error",
          "ename": "NameError",
          "evalue": "ignored",
          "traceback": [
            "\u001b[0;31m---------------------------------------------------------------------------\u001b[0m",
            "\u001b[0;31mNameError\u001b[0m                                 Traceback (most recent call last)",
            "\u001b[0;32m<ipython-input-15-a561897efae1>\u001b[0m in \u001b[0;36m<module>\u001b[0;34m\u001b[0m\n\u001b[0;32m----> 1\u001b[0;31m \u001b[0mprob_hp_noprocess_philosopher_stone\u001b[0m \u001b[0;34m=\u001b[0m \u001b[0mnltk\u001b[0m\u001b[0;34m.\u001b[0m\u001b[0mprobability\u001b[0m\u001b[0;34m.\u001b[0m\u001b[0mFreqDist\u001b[0m\u001b[0;34m(\u001b[0m\u001b[0mtokens_noprocess_hp_philosopher_stone\u001b[0m\u001b[0;34m)\u001b[0m\u001b[0;34m\u001b[0m\u001b[0;34m\u001b[0m\u001b[0m\n\u001b[0m\u001b[1;32m      2\u001b[0m \u001b[0mprob_hp_philosopher_stone\u001b[0m \u001b[0;34m=\u001b[0m \u001b[0mnltk\u001b[0m\u001b[0;34m.\u001b[0m\u001b[0mprobability\u001b[0m\u001b[0;34m.\u001b[0m\u001b[0mFreqDist\u001b[0m\u001b[0;34m(\u001b[0m\u001b[0mtokens_hp_philosopher_stone\u001b[0m\u001b[0;34m)\u001b[0m\u001b[0;34m\u001b[0m\u001b[0;34m\u001b[0m\u001b[0m\n",
            "\u001b[0;31mNameError\u001b[0m: name 'tokens_noprocess_hp_philosopher_stone' is not defined"
          ]
        }
      ]
    },
    {
      "cell_type": "code",
      "source": [
        "print(prob_hp_noprocess_philosopher_stone.most_common(5))\n",
        "print(prob_hp_philosopher_stone.most_common(5))"
      ],
      "metadata": {
        "colab": {
          "base_uri": "https://localhost:8080/"
        },
        "id": "MSM6Bv3Sy2C0",
        "outputId": "dd8bd5c9-7f16-439f-b840-c6e5aaf920bc"
      },
      "execution_count": null,
      "outputs": [
        {
          "output_type": "stream",
          "name": "stdout",
          "text": [
            "[(',', 5658), ('.', 4639), ('the', 3312), ('’', 3111), ('“', 2437)]\n",
            "[('harry', 1325), ('said', 794), ('ron', 429), ('hagrid', 370), ('hermione', 269)]\n"
          ]
        }
      ]
    },
    {
      "cell_type": "markdown",
      "source": [
        "# Print das 10 palavras que mais se repetem nos textos"
      ],
      "metadata": {
        "id": "d7OiVzajqEUd"
      }
    },
    {
      "cell_type": "code",
      "source": [
        "print(prob_hp_philosopher_stone.most_common(10))\n",
        "print(prob_hp_chamber_secrets.most_common(10))\n",
        "print(prob_hp_azkaban.most_common(10))\n",
        "print(prob_hp_goblet_fire.most_common(10))\n",
        "print(prob_hp_phoenix.most_common(10))\n",
        "print(prob_hp_prince.most_common(10))\n",
        "print(prob_hp_hallows.most_common(10))"
      ],
      "metadata": {
        "colab": {
          "base_uri": "https://localhost:8080/"
        },
        "id": "fMeW2xivcug9",
        "outputId": "7d2119c5-237b-43a5-84c7-3d48f1c18880"
      },
      "execution_count": 16,
      "outputs": [
        {
          "output_type": "stream",
          "name": "stdout",
          "text": [
            "[('harry', 1325), ('said', 794), ('ron', 429), ('hagrid', 370), ('hermione', 269), ('back', 261), ('one', 256), ('know', 214), ('got', 207), ('could', 198)]\n",
            "[('harry', 1656), ('said', 1218), ('ron', 706), ('hermione', 320), ('back', 279), ('lockhart', 234), ('one', 222), ('malfoy', 222), ('could', 211), ('professor', 192)]\n",
            "[('harry', 2049), ('said', 1477), ('ron', 791), ('hermione', 672), ('professor', 416), ('lupin', 408), ('black', 390), ('back', 353), ('one', 305), ('hagrid', 268)]\n",
            "[('harry', 3171), ('said', 2638), ('ron', 1043), ('hermione', 871), ('dumbledore', 599), ('back', 589), ('mr', 523), ('around', 490), ('looked', 489), ('one', 488)]\n",
            "[('harry', 4089), ('said', 3945), ('ron', 1307), ('hermione', 1307), ('back', 791), ('well', 664), ('dumbledore', 661), ('sirius', 646), ('could', 639), ('know', 604)]\n",
            "[('harry', 2784), ('said', 2441), ('dumbledore', 1034), ('ron', 877), ('hermione', 694), ('could', 482), ('would', 456), ('back', 423), ('one', 409), ('well', 401)]\n",
            "[('harry', 3142), ('said', 1978), ('hermione', 1224), ('ron', 1176), ('could', 646), ('wand', 596), ('dumbledore', 589), ('back', 547), ('know', 541), ('like', 458)]\n"
          ]
        }
      ]
    },
    {
      "cell_type": "code",
      "source": [
        "print(prob_hp_hallows.most_common()[-10:])"
      ],
      "metadata": {
        "colab": {
          "base_uri": "https://localhost:8080/"
        },
        "id": "UaDl51yIC7ec",
        "outputId": "470ecb45-d9fe-45a6-bd2c-44cbeb4d2222"
      },
      "execution_count": null,
      "outputs": [
        {
          "output_type": "stream",
          "name": "stdout",
          "text": [
            "[('carriages', 1), ('boats', 1), ('friday', 1), ('sincere', 1), ('tactful', 1), ('bravest', 1), ('kisses', 1), ('reminders', 1), ('craned', 1), ('bereavement', 1)]\n"
          ]
        }
      ]
    },
    {
      "cell_type": "markdown",
      "source": [
        "# Palavra que mais se repete"
      ],
      "metadata": {
        "id": "BC6IrUI7qIXP"
      }
    },
    {
      "cell_type": "code",
      "source": [
        "print('Palavra que mais se repete no texto de ' + list_books_hp[0] + ': ' + prob_hp_philosopher_stone.max())\n",
        "print('Palavra que mais se repete no texto de ' + list_books_hp[1] + ': ' + prob_hp_chamber_secrets.max())\n",
        "print('Palavra que mais se repete no texto de ' + list_books_hp[2] + ': ' + prob_hp_azkaban.max())\n",
        "print('Palavra que mais se repete no texto de ' + list_books_hp[3] + ': ' + prob_hp_goblet_fire.max())\n",
        "print('Palavra que mais se repete no texto de ' + list_books_hp[4] + ': ' + prob_hp_phoenix.max())\n",
        "print('Palavra que mais se repete no texto de ' + list_books_hp[5] + ': ' + prob_hp_prince.max())\n",
        "print('Palavra que mais se repete no texto de ' + list_books_hp[6] + ': ' + prob_hp_hallows.max())"
      ],
      "metadata": {
        "colab": {
          "base_uri": "https://localhost:8080/"
        },
        "id": "azrebwAWc-M9",
        "outputId": "c90d223f-2e37-45da-df0a-1584f8f0d4cd"
      },
      "execution_count": 17,
      "outputs": [
        {
          "output_type": "stream",
          "name": "stdout",
          "text": [
            "Palavra que mais se repete no texto de Book 1 - The Philosopher's Stone.txt: harry\n",
            "Palavra que mais se repete no texto de Book 2 - The Chamber of Secrets.txt: harry\n",
            "Palavra que mais se repete no texto de Book 3 - The Prisoner of Azkaban.txt: harry\n",
            "Palavra que mais se repete no texto de Book 4 - The Goblet of Fire.txt: harry\n",
            "Palavra que mais se repete no texto de Book 5 - The Order of the Phoenix.txt: harry\n",
            "Palavra que mais se repete no texto de Book 6 - The Half Blood Prince.txt: harry\n",
            "Palavra que mais se repete no texto de Book 7 - The Deathly Hallows.txt: harry\n"
          ]
        }
      ]
    },
    {
      "cell_type": "markdown",
      "source": [
        "# Plot de 20 palavras que mais se repete nos livros"
      ],
      "metadata": {
        "id": "03CwNLTksXC4"
      }
    },
    {
      "cell_type": "code",
      "source": [
        "import matplotlib.pyplot as plt\n",
        "import numpy as np\n",
        "import pandas as pd"
      ],
      "metadata": {
        "id": "BdsrV-vgm24Q"
      },
      "execution_count": 18,
      "outputs": []
    },
    {
      "cell_type": "code",
      "source": [
        "def filter_book(book, count, num_book):\n",
        "  words = []\n",
        "  count_words = []\n",
        "  for i in book.most_common(count):\n",
        "    words.append(i[0])\n",
        "    count_words.append(i[1])\n",
        "  \n",
        "  return {'words': words, 'qtd_words': count_words, 'title': list_books_hp[num_book].replace('.txt', '')}"
      ],
      "metadata": {
        "id": "tnQT6INQlq56"
      },
      "execution_count": 19,
      "outputs": []
    },
    {
      "cell_type": "code",
      "source": [
        "#prob_hp_noprocess_philosopher_stone\n",
        "#prob_hp_philosopher_stone"
      ],
      "metadata": {
        "id": "dRJgyOULzWd2"
      },
      "execution_count": null,
      "outputs": []
    },
    {
      "cell_type": "code",
      "source": [
        "def plot_graph_dispersion(_book):\n",
        "  colors = np.random.randint(60, size=(len(_book['qtd_words'])))\n",
        "  \n",
        "  plt.figure(figsize=(10,4)).patch.set_facecolor((1, 1, 1))\n",
        "  plt.scatter(np.array(_book['words']), np.array(_book['qtd_words']), c=colors, s=_book['qtd_words'], alpha=0.5)\n",
        "\n",
        "  plt.xlabel(\"Palavras\")\n",
        "  plt.ylabel(\"Quantidade\")\n",
        "  plt.title(_book['title'])\n",
        "\n",
        "  plt.grid(True)\n",
        "  #plt.colorbar()\n",
        "  plt.show()"
      ],
      "metadata": {
        "id": "l-iyiOMsz-im"
      },
      "execution_count": 20,
      "outputs": []
    },
    {
      "cell_type": "code",
      "source": [
        "def plot_graph_bar(_book):\n",
        "  colors = ['#1f77b4', '#ff7f0e', '#2ca02c', '#d62728', '#9467bd',\n",
        "          '#8c564b', '#e377c2', '#7f7f7f', '#bcbd22', '#17becf']\n",
        "\n",
        "  plt.figure(figsize=(8,4)).patch.set_facecolor((1, 1, 1))\n",
        "  plt.bar(_book['words'], _book['qtd_words'], label=_book['words'], color=colors, alpha=0.5)\n",
        "\n",
        "  plt.xlabel(\"Palavras\")\n",
        "  plt.ylabel(\"Quantidade\")\n",
        "  plt.title(_book['title'])\n",
        "\n",
        "  #plt.grid(True)\n",
        "  #plt.colorbar()\n",
        "  plt.show()"
      ],
      "metadata": {
        "id": "NJIWaicN0WAx"
      },
      "execution_count": 21,
      "outputs": []
    },
    {
      "cell_type": "code",
      "source": [
        "_book = filter_book(prob_hp_philosopher_stone, 10, 0)\n",
        "\n",
        "#print(words, count_words)\n",
        "plot_graph_bar(_book)\n",
        "plot_graph_dispersion(_book)"
      ],
      "metadata": {
        "colab": {
          "base_uri": "https://localhost:8080/",
          "height": 573
        },
        "id": "jwGAvNbFmdmj",
        "outputId": "83f5e700-7b5c-4a60-bed4-a91ea3db83fa"
      },
      "execution_count": 22,
      "outputs": [
        {
          "output_type": "display_data",
          "data": {
            "text/plain": [
              "<Figure size 576x288 with 1 Axes>"
            ],
            "image/png": "[encoded data removed]"
          },
          "metadata": {}
        },
        {
          "output_type": "display_data",
          "data": {
            "text/plain": [
              "<Figure size 720x288 with 1 Axes>"
            ],
            "image/png": "[encoded data removed]"
          },
          "metadata": {}
        }
      ]
    },
    {
      "cell_type": "code",
      "source": [
        "_book = filter_book(prob_hp_noprocess_philosopher_stone, 10, 0)\n",
        "\n",
        "#print(words, count_words)\n",
        "plot_graph_bar(_book)\n",
        "plot_graph_dispersion(_book)"
      ],
      "metadata": {
        "colab": {
          "base_uri": "https://localhost:8080/",
          "height": 573
        },
        "id": "j3ZfS--n5jkJ",
        "outputId": "f166a3d9-5a83-4644-9558-6e69e2e9a1e2"
      },
      "execution_count": null,
      "outputs": [
        {
          "output_type": "display_data",
          "data": {
            "text/plain": [
              "<Figure size 576x288 with 1 Axes>"
            ],
            "image/png": "[encoded data removed]"
          },
          "metadata": {}
        },
        {
          "output_type": "display_data",
          "data": {
            "text/plain": [
              "<Figure size 720x288 with 1 Axes>"
            ],
            "image/png": "[encoded data removed]"
          },
          "metadata": {}
        }
      ]
    },
    {
      "cell_type": "code",
      "source": [
        "prob_hp_philosopher_stone.plot(10, title=list_books_hp[0].replace('.txt', ''))"
      ],
      "metadata": {
        "colab": {
          "base_uri": "https://localhost:8080/",
          "height": 350
        },
        "id": "-vOVfH-ZdF3_",
        "outputId": "a576914d-0cb7-41d4-9b09-33cf433b8c12"
      },
      "execution_count": null,
      "outputs": [
        {
          "output_type": "display_data",
          "data": {
            "text/plain": [
              "<Figure size 432x288 with 1 Axes>"
            ],
            "image/png": "[encoded data removed]"
          },
          "metadata": {
            "needs_background": "light"
          }
        },
        {
          "output_type": "execute_result",
          "data": {
            "text/plain": [
              "<matplotlib.axes._subplots.AxesSubplot at 0x7fec1064a220>"
            ]
          },
          "metadata": {},
          "execution_count": 23
        }
      ]
    },
    {
      "cell_type": "code",
      "source": [
        "prob_hp_noprocess_philosopher_stone.plot(10, title=list_books_hp[0].replace('.txt', ''))"
      ],
      "metadata": {
        "colab": {
          "base_uri": "https://localhost:8080/",
          "height": 330
        },
        "id": "QkuvvtIWxKo6",
        "outputId": "59c3308c-d588-4654-df86-263129f3eee6"
      },
      "execution_count": null,
      "outputs": [
        {
          "output_type": "display_data",
          "data": {
            "text/plain": [
              "<Figure size 432x288 with 1 Axes>"
            ],
            "image/png": "[encoded data removed]"
          },
          "metadata": {
            "needs_background": "light"
          }
        },
        {
          "output_type": "execute_result",
          "data": {
            "text/plain": [
              "<matplotlib.axes._subplots.AxesSubplot at 0x7fec1168e490>"
            ]
          },
          "metadata": {},
          "execution_count": 24
        }
      ]
    },
    {
      "cell_type": "code",
      "source": [
        "prob_hp_chamber_secrets.plot(20, title=list_books_hp[1].replace('.txt', ''))"
      ],
      "metadata": {
        "colab": {
          "base_uri": "https://localhost:8080/",
          "height": 362
        },
        "id": "l8iCc8DQo2Rn",
        "outputId": "70fe9695-be4f-4502-d650-3db7e8754a59"
      },
      "execution_count": null,
      "outputs": [
        {
          "output_type": "display_data",
          "data": {
            "text/plain": [
              "<Figure size 432x288 with 1 Axes>"
            ],
            "image/png": "[encoded data removed]"
          },
          "metadata": {
            "needs_background": "light"
          }
        },
        {
          "output_type": "execute_result",
          "data": {
            "text/plain": [
              "<matplotlib.axes._subplots.AxesSubplot at 0x7f1479094710>"
            ]
          },
          "metadata": {},
          "execution_count": 20
        }
      ]
    },
    {
      "cell_type": "code",
      "source": [
        "prob_hp_azkaban.plot(20, title=list_books_hp[2].replace('.txt', ''))"
      ],
      "metadata": {
        "colab": {
          "base_uri": "https://localhost:8080/",
          "height": 350
        },
        "id": "65YFgdqzS1TW",
        "outputId": "84901f85-628b-48ca-8902-76aab402db0f"
      },
      "execution_count": null,
      "outputs": [
        {
          "output_type": "display_data",
          "data": {
            "text/plain": [
              "<Figure size 432x288 with 1 Axes>"
            ],
            "image/png": "[encoded data removed]"
          },
          "metadata": {
            "needs_background": "light"
          }
        },
        {
          "output_type": "execute_result",
          "data": {
            "text/plain": [
              "<matplotlib.axes._subplots.AxesSubplot at 0x7f5716a1f110>"
            ]
          },
          "metadata": {},
          "execution_count": 17
        }
      ]
    },
    {
      "cell_type": "code",
      "source": [
        "prob_hp_goblet_fire.plot(20, title=list_books_hp[3].replace('.txt', ''))"
      ],
      "metadata": {
        "colab": {
          "base_uri": "https://localhost:8080/",
          "height": 362
        },
        "id": "Fx74MQC1S73G",
        "outputId": "de565bbb-ca5d-4712-d52f-969c59631a9e"
      },
      "execution_count": null,
      "outputs": [
        {
          "output_type": "display_data",
          "data": {
            "text/plain": [
              "<Figure size 432x288 with 1 Axes>"
            ],
            "image/png": "[encoded data removed]"
          },
          "metadata": {
            "needs_background": "light"
          }
        },
        {
          "output_type": "execute_result",
          "data": {
            "text/plain": [
              "<matplotlib.axes._subplots.AxesSubplot at 0x7f1478fd0190>"
            ]
          },
          "metadata": {},
          "execution_count": 21
        }
      ]
    },
    {
      "cell_type": "code",
      "source": [
        "prob_hp_phoenix.plot(20, title=list_books_hp[4].replace('.txt', ''))"
      ],
      "metadata": {
        "colab": {
          "base_uri": "https://localhost:8080/",
          "height": 362
        },
        "id": "AePQRbcZropj",
        "outputId": "8ac29b09-d2d2-4512-e7e1-791be2578d2a"
      },
      "execution_count": null,
      "outputs": [
        {
          "output_type": "display_data",
          "data": {
            "text/plain": [
              "<Figure size 432x288 with 1 Axes>"
            ],
            "image/png": "[encoded data removed]"
          },
          "metadata": {
            "needs_background": "light"
          }
        },
        {
          "output_type": "execute_result",
          "data": {
            "text/plain": [
              "<matplotlib.axes._subplots.AxesSubplot at 0x7f147957db90>"
            ]
          },
          "metadata": {},
          "execution_count": 22
        }
      ]
    },
    {
      "cell_type": "code",
      "source": [
        "prob_hp_prince.plot(20, title=list_books_hp[5].replace('.txt', ''))"
      ],
      "metadata": {
        "colab": {
          "base_uri": "https://localhost:8080/",
          "height": 362
        },
        "id": "RpRVIFqorrag",
        "outputId": "bf4232cb-3dfb-4caf-f314-4f9d67a6b667"
      },
      "execution_count": null,
      "outputs": [
        {
          "output_type": "display_data",
          "data": {
            "text/plain": [
              "<Figure size 432x288 with 1 Axes>"
            ],
            "image/png": "[encoded data removed]"
          },
          "metadata": {
            "needs_background": "light"
          }
        },
        {
          "output_type": "execute_result",
          "data": {
            "text/plain": [
              "<matplotlib.axes._subplots.AxesSubplot at 0x7f1478f3e190>"
            ]
          },
          "metadata": {},
          "execution_count": 23
        }
      ]
    },
    {
      "cell_type": "code",
      "source": [
        "prob_hp_hallows.plot(20, title=list_books_hp[6].replace('.txt', ''))"
      ],
      "metadata": {
        "colab": {
          "base_uri": "https://localhost:8080/",
          "height": 362
        },
        "id": "PLikm9B6ElzG",
        "outputId": "e5d52774-2669-4191-d236-576329a55852"
      },
      "execution_count": null,
      "outputs": [
        {
          "output_type": "display_data",
          "data": {
            "text/plain": [
              "<Figure size 432x288 with 1 Axes>"
            ],
            "image/png": "[encoded data removed]"
          },
          "metadata": {
            "needs_background": "light"
          }
        },
        {
          "output_type": "execute_result",
          "data": {
            "text/plain": [
              "<matplotlib.axes._subplots.AxesSubplot at 0x7f1478dbd350>"
            ]
          },
          "metadata": {},
          "execution_count": 24
        }
      ]
    },
    {
      "cell_type": "code",
      "source": [
        "analytics_hp_philosopher_stone = nltk.Text(tokens_hp_philosopher_stone)\n",
        "analytics_hp_chamber_secrets = nltk.Text(tokens_hp_chamber_secrets)\n",
        "analytics_hp_azkaban = nltk.Text(tokens_hp_azkaban)\n",
        "analytics_hp_goblet_fire = nltk.Text(tokens_hp_goblet_fire)\n",
        "analytics_hp_phoenix = nltk.Text(tokens_hp_phoenix)\n",
        "analytics_hp_prince = nltk.Text(tokens_hp_prince)\n",
        "analytics_hp_hallows = nltk.Text(tokens_hp_hallows)"
      ],
      "metadata": {
        "id": "c7I4fTgTo9Cr"
      },
      "execution_count": 23,
      "outputs": []
    },
    {
      "cell_type": "markdown",
      "source": [
        "# Palavras similares"
      ],
      "metadata": {
        "id": "dKtRctPzvSoJ"
      }
    },
    {
      "cell_type": "code",
      "source": [
        "analytics_hp_philosopher_stone.similar('harry')"
      ],
      "metadata": {
        "colab": {
          "base_uri": "https://localhost:8080/"
        },
        "id": "K0YdVQ_WuHLb",
        "outputId": "f9c5626a-e544-4475-cb66-cf624213bfcf"
      },
      "execution_count": 24,
      "outputs": [
        {
          "output_type": "stream",
          "name": "stdout",
          "text": [
            "ron hagrid hermione said malfoy would dumbledore neville snape got get\n",
            "right voldemort whispered yeh quirrell boy say dudley yes\n"
          ]
        }
      ]
    },
    {
      "cell_type": "code",
      "source": [
        "analytics_hp_chamber_secrets.similar('basilisk')"
      ],
      "metadata": {
        "colab": {
          "base_uri": "https://localhost:8080/"
        },
        "id": "GFlNsIhRucXx",
        "outputId": "1fcdeccc-8ad7-4a23-bff4-68c96c5246dd"
      },
      "execution_count": null,
      "outputs": [
        {
          "output_type": "stream",
          "name": "stdout",
          "text": [
            "said snake serpent\n"
          ]
        }
      ]
    },
    {
      "cell_type": "code",
      "source": [
        "analytics_hp_azkaban.similar('lupin')"
      ],
      "metadata": {
        "colab": {
          "base_uri": "https://localhost:8080/"
        },
        "id": "PEg8i8cgTJh_",
        "outputId": "80fc5970-2ec2-4eee-8dce-26b93320c64f"
      },
      "execution_count": null,
      "outputs": [
        {
          "output_type": "stream",
          "name": "stdout",
          "text": [
            "harry hermione ron trelawney mcgonagall dumbledore snape hagrid fudge\n",
            "witch well fred george quietly malfoy flitwick lavender listen come us\n"
          ]
        }
      ]
    },
    {
      "cell_type": "code",
      "source": [
        "analytics_hp_goblet_fire.similar('cedric')"
      ],
      "metadata": {
        "colab": {
          "base_uri": "https://localhost:8080/"
        },
        "id": "rMwCaTkDTUxZ",
        "outputId": "f731e7e6-2caf-451d-f3bd-75007984c456"
      },
      "execution_count": null,
      "outputs": [
        {
          "output_type": "stream",
          "name": "stdout",
          "text": [
            "harry ron hermione dumbledore said fred hagrid yeah bagman dobby see\n",
            "saw got looked know yes wand sirius bill krum\n"
          ]
        }
      ]
    },
    {
      "cell_type": "code",
      "source": [
        "analytics_hp_phoenix.similar('bellatrix')"
      ],
      "metadata": {
        "colab": {
          "base_uri": "https://localhost:8080/"
        },
        "id": "_8TKby15slSJ",
        "outputId": "1b586a6b-fcc6-4130-9ca0-cfd6b33d8d5f"
      },
      "execution_count": null,
      "outputs": [
        {
          "output_type": "stream",
          "name": "stdout",
          "text": [
            "hermione harry ron dumbledore behind see know yes corner nothing lives\n",
            "good want owl sirius laughing yeah weak noticed er\n"
          ]
        }
      ]
    },
    {
      "cell_type": "code",
      "source": [
        "analytics_hp_prince.similar('snape')"
      ],
      "metadata": {
        "colab": {
          "base_uri": "https://localhost:8080/"
        },
        "id": "dKUB9qjGsohE",
        "outputId": "32843539-a9e9-4171-c35a-13afcef70a65"
      },
      "execution_count": null,
      "outputs": [
        {
          "output_type": "stream",
          "name": "stdout",
          "text": [
            "harry dumbledore slughorn hermione ron scrimgeour said yes malfoy\n",
            "mcgonagall nothing voldemort tonks fred ginny lupin ogden thought\n",
            "looking made\n"
          ]
        }
      ]
    },
    {
      "cell_type": "code",
      "source": [
        "analytics_hp_hallows.similar('voldemort')"
      ],
      "metadata": {
        "colab": {
          "base_uri": "https://localhost:8080/"
        },
        "id": "uY4LzfajEzi4",
        "outputId": "4ff14834-b945-4ec9-83db-f40e85cbf97a"
      },
      "execution_count": null,
      "outputs": [
        {
          "output_type": "stream",
          "name": "stdout",
          "text": [
            "harry hermione said dumbledore ron bellatrix lupin wanted felt wand\n",
            "going think snake say knew doge familiar saw really quietly\n"
          ]
        }
      ]
    },
    {
      "cell_type": "markdown",
      "source": [
        "# Palavras dentro de diferentes contextos"
      ],
      "metadata": {
        "id": "trK2FNB5_dDp"
      }
    },
    {
      "cell_type": "code",
      "source": [
        "analytics_hp_philosopher_stone.concordance('stone')"
      ],
      "metadata": {
        "colab": {
          "base_uri": "https://localhost:8080/"
        },
        "id": "aQq8pXxu_qMl",
        "outputId": "c87714b6-78f1-46f3-c19a-9412bce7beed"
      },
      "execution_count": null,
      "outputs": [
        {
          "output_type": "stream",
          "name": "stdout",
          "text": [
            "Displaying 25 of 80 matches:\n",
            "snakes crawling slithering bits wood stone dudley piers wanted see huge poisono\n",
            "ll hagrid folded newspaper clambered stone steps onto street passersby stared l\n",
            "lin said hagrid quietly walked white stone steps toward goblin head shorter har\n",
            "rry expected marble surprised narrow stone passageway lit flaming torches slope\n",
            "ss right shadow castle walked flight stone steps crowded around huge oak front \n",
            "l big could fit whole dursleys house stone walls lit flaming torches like ones \n",
            " professor mcgonagall across flagged stone floor harry could hear drone hundred\n",
            "ul known draught living death bezoar stone taken stomach goat save poisons monk\n",
            "n twisted blob potion seeping across stone floor burning holes people shoes wit\n",
            "issed ron pulling harry behind large stone griffin peering around however saw p\n",
            "ed dramatically known maker sorcerer stone quite effect expected said harry ron\n",
            "dy alchemy concerned making sorcerer stone legendary substance astonishing powe\n",
            "gendary substance astonishing powers stone transform metal pure gold also produ\n",
            "inker immortal many reports sorcerer stone centuries stone currently existence \n",
            "any reports sorcerer stone centuries stone currently existence belongs mr nicol\n",
            "ed dog must guarding flamel sorcerer stone bet asked dumbledore keep safe frien\n",
            "eep safe friends knew someone wanted stone moved gringotts stone makes gold sto\n",
            "someone wanted stone moved gringotts stone makes gold stops ever dying said har\n",
            " harry ron still discussing sorcerer stone one ron said buy quidditch team harr\n",
            "d snape possibly know found sorcerer stone harry see could yet sometimes horrib\n",
            " icy students supposed know sorcerer stone harry leaned forward quirrell mumbli\n",
            "ehind told seen heard right sorcerer stone snape trying force quirrell help get\n",
            "l hocus pocus reckon things guarding stone apart fluffy loads enchantments prob\n",
            "rk arts spell snape needs break mean stone safe long quirrell stands snape said\n",
            "eeping usual bad temper surely meant stone still safe whenever harry passed qui\n"
          ]
        }
      ]
    },
    {
      "cell_type": "code",
      "source": [
        "analytics_hp_chamber_secrets.concordance('basilisk')"
      ],
      "metadata": {
        "colab": {
          "base_uri": "https://localhost:8080/"
        },
        "id": "jOnRpXhG_x6w",
        "outputId": "219c128e-c57c-4042-e257-89af777d0012"
      },
      "execution_count": null,
      "outputs": [
        {
          "output_type": "stream",
          "name": "stdout",
          "text": [
            "Displaying 25 of 31 matches:\n",
            "ters roam land none curious deadly basilisk known also king serpents snake may\n",
            "ndrous aside deadly venomous fangs basilisk murderous stare fixed beam eye sha\n",
            " suffer instant death spiders flee basilisk mortal enemy basilisk flees crowin\n",
            "spiders flee basilisk mortal enemy basilisk flees crowing rooster fatal beneat\n",
            "on breathed answer monster chamber basilisk giant serpent hearing voice place \n",
            "seltongue harry looked beds around basilisk kills people looking one died one \n",
            "oked straight eye colin saw camera basilisk burned film inside colin got petri\n",
            " petrified justin justin must seen basilisk nearly headless nick nick got full\n",
            "ror next hermione realized monster basilisk bet anything warned first person m\n",
            "e chamber opened spiders flee fits basilisk getting around place said ron gian\n",
            "ool heir slytherin one controlling basilisk going said ron whose eyes flashing\n",
            "ng try get chamber tell think tell basilisk harry think anything else wanted s\n",
            "tood listening chill silence could basilisk lurking shadowy corner behind pill\n",
            "ry said raising ginny head got get basilisk know could along moment please hel\n",
            "s sagging ginny dead weight got go basilisk comes come called said riddle calm\n",
            "th heard riddle hissing voice kill basilisk moving toward harry could hear hea\n",
            "d snake fawkes soaring around head basilisk snapping furiously fangs long thin\n",
            "rry ducked something soft hit face basilisk swept sorting hat harry arms harry\n",
            "ed onto head threw flat onto floor basilisk tail swung help help harry thought\n",
            "ehind sniff smell harry feet ready basilisk head falling body coiling around h\n",
            "shed harry side raised sword hands basilisk lunged time aim true harry threw w\n",
            "nking deeper deeper arm splintered basilisk keeled sideways fell twitching flo\n",
            "ng though meant along harry seized basilisk fang floor next plunged straight h\n",
            "y drip drip ink still oozing diary basilisk venom burned sizzling hole right s\n",
            "ug retrieved glittering sword roof basilisk mouth came faint moan end chamber \n"
          ]
        }
      ]
    },
    {
      "cell_type": "code",
      "source": [
        "analytics_hp_azkaban.concordance('azkaban')"
      ],
      "metadata": {
        "colab": {
          "base_uri": "https://localhost:8080/"
        },
        "id": "olLkfYCSTl1r",
        "outputId": "4ca7d416-6b3e-4ad7-878e-2325c561b145"
      },
      "execution_count": null,
      "outputs": [
        {
          "output_type": "stream",
          "name": "stdout",
          "text": [
            "Displaying 25 of 46 matches:\n",
            "ossibly infamous prisoner ever held azkaban fortress still eluding capture mini\n",
            " ead cos mad inee ern inee mad went azkaban said ern slow voice blow meself set\n",
            "ure black gaunt face never breakout azkaban ern beats ow frightenin eh mind fan\n",
            "ow frightenin eh mind fancy chances azkaban guards eh ern ernie suddenly shiver\n",
            "ered talk summat else stan good lad azkaban guards give collywobbles stan put p\n",
            "nflating aunt marge bad enough land azkaban harry know anything wizard prison t\n",
            "et impatiently accident send people azkaban blowing aunts tally harry past deal\n",
            "cloak oh heard well yet matter time azkaban guards never yet failed angrier eve\n",
            " personally let children alone back azkaban harry homework blankets flashlight \n",
            "ing caught thirteen year old wizard azkaban guards get back mark words moment m\n",
            "lack mad maybe clever enough escape azkaban supposed impossible month one seen \n",
            "rry perfectly safe hogwarts thought azkaban perfectly safe black break azkaban \n",
            " azkaban perfectly safe black break azkaban break hogwarts one really sure blac\n",
            " fudge wanted kept quiet fudge went azkaban night black escaped guards told fud\n",
            "rry stopped know twelve years alone azkaban brood silence harry leaned still cl\n",
            "uppose knows course knows ask minds azkaban guards stationing around entrances \n",
            "y happy catch black dumbledore fond azkaban guards said mr weasley heavily come\n",
            "ort right hand man would frightened azkaban guards everyone kept talking seemed\n",
            "much frightened black one knows got azkaban said ron uncomfortably one ever don\n",
            "ocolate everyone else one dementors azkaban everyone stared professor lupin cru\n",
            "ol presently playing host dementors azkaban ministry magic business paused harr\n",
            " harry said george bracingly dad go azkaban one time remember fred said worst p\n",
            "nt emotions running high idea feast azkaban must terrible harry muttered lupin \n",
            "ass think comfort poor mother black azkaban ever since madam rosmerta let long \n",
            "tless yet met black last inspection azkaban know prisoners sit muttering dark s\n"
          ]
        }
      ]
    },
    {
      "cell_type": "code",
      "source": [
        "analytics_hp_goblet_fire.concordance('cedric')"
      ],
      "metadata": {
        "colab": {
          "base_uri": "https://localhost:8080/"
        },
        "id": "5JMvUG3STt0L",
        "outputId": "743c513d-f936-4baa-a999-92d71efbe09c"
      },
      "execution_count": null,
      "outputs": [
        {
          "output_type": "stream",
          "name": "stdout",
          "text": [
            "Displaying 25 of 268 matches:\n",
            "ol magical creatures think know son cedric cedric diggory extremely handsome b\n",
            "cal creatures think know son cedric cedric diggory extremely handsome boy arou\n",
            "use quidditch team hogwarts hi said cedric looking around everybody said hi ba\n",
            " merely nodded never quite forgiven cedric beating team gryffindor first quidd\n",
            "atch previous year long walk arthur cedric father asked bad said mr weasley li\n",
            "emained silent fred george scowling cedric looked slightly embarrassed harry f\n",
            " harry looked mr weasley mr diggory cedric still standing though looking winds\n",
            "rd scrubby brown beard amos diggory cedric father stunners went right trees go\n",
            "emerging crowd eyes gleaming wonder cedric knows think go tell cedric said ron\n",
            "g wonder cedric knows think go tell cedric said ron blankly ernie hurried digg\n",
            " parchment hogwarts champion called cedric diggory said ron loudly nobody hear\n",
            "puff jumped feet screaming stamping cedric made way past grinning broadly head\n",
            "hind teachers table indeed applause cedric went long time dumbledore could mak\n",
            " started whispering ear viktor krum cedric diggory fleur delacour grouped arou\n",
            "ning mantelpiece slightly apart two cedric standing hands behind back staring \n",
            " surly face darkened surveyed harry cedric looked nonplussed looked bagman har\n",
            " thick eyebrows contracted slightly cedric still looking politely bewildered f\n",
            "ed room seems however choice accept cedric harry chosen compete tournament the\n",
            "ask designed test daring told harry cedric fleur viktor going telling courage \n",
            "ed krum exited though silence harry cedric suggest go bed said dumbledore smil\n",
            "great deal mess noise harry glanced cedric nodded left together great hall des\n",
            "pkins eerie flickering quality said cedric slight smile playing pose said harr\n",
            "ay though brain ransacked tell said cedric reached entrance hall lit torches a\n",
            "ring put telling truth ah okay said cedric harry could tell cedric believe wel\n",
            "h okay said cedric harry could tell cedric believe well see instead going marb\n"
          ]
        }
      ]
    },
    {
      "cell_type": "code",
      "source": [
        "analytics_hp_phoenix.concordance('bellatrix')"
      ],
      "metadata": {
        "colab": {
          "base_uri": "https://localhost:8080/"
        },
        "id": "ed4yzvNCtaxd",
        "outputId": "1dfab616-cf38-49c8-cd52-a82938ce92d2"
      },
      "execution_count": null,
      "outputs": [
        {
          "output_type": "stream",
          "name": "stdout",
          "text": [
            "Displaying 25 of 53 matches:\n",
            "er small round burn mark two names bellatrix narcissa andromeda sisters still m\n",
            "y looking name left andromeda burn bellatrix black connected double line rodolp\n",
            "ius shortly harry looked curiously bellatrix husband rodolphus came barty crouc\n",
            "her rabastan harry remembered seen bellatrix lestrange inside dumbledore pensie\n",
            "rial witnessed dumbledore pensieve bellatrix lestrange looks kreacher favorite \n",
            "y dumbledore told promised mention bellatrix lestrange got sent azkaban using c\n",
            "s curse neville parents lost minds bellatrix lestrange whispered hermione horri\n",
            "thing perhaps azkaban taken beauty bellatrix lestrange convicted torture perman\n",
            "dline pictures harry concentrating bellatrix yet read mass breakout azkaban min\n",
            "y individuals include black cousin bellatrix lestrange rallied around black lea\n",
            "d kept quiet said anything subject bellatrix fellow torturers escape fact barel\n",
            " yeah said harry tearing eyes away bellatrix lestrange face glance high street \n",
            " crumple horned snorkacks breakout bellatrix lestrange fellow death eaters give\n",
            " thinks fighting us oh know potter bellatrix said malfoy softly great weakness \n",
            "llows pulled hood azkaban hollowed bellatrix lestrange face making gaunt skull \n",
            "ld chest smash want attack us told bellatrix think boss pleased come back witho\n",
            " mind blank kind prophecy repeated bellatrix grin fading face jest harry potter\n",
            "w hisses dare speak name whispered bellatrix yeah said harry maintaining tight \n",
            " got problem saying vol shut mouth bellatrix shrieked dare speak name unworthy \n",
            " stupef ivo jet red light shot end bellatrix lestrange wand malfoy deflected sp\n",
            "ragments saying could heard malfoy bellatrix shouts solstice come new said figu\n",
            "need prophecy dared dares shrieked bellatrix incoherently stands filthy half bl\n",
            "ade come get come get get shrieked bellatrix cackle mad laughter dark lord walk\n",
            "got prophecy kill others necessary bellatrix rodolphus take left crabbe rabasta\n",
            "n three death eaters sped hall led bellatrix lestrange shrieked stunning spells\n"
          ]
        }
      ]
    },
    {
      "cell_type": "code",
      "source": [
        "analytics_hp_prince.concordance('unbreakable')"
      ],
      "metadata": {
        "colab": {
          "base_uri": "https://localhost:8080/"
        },
        "id": "tuaO1O-QtaoD",
        "outputId": "8cff9cf5-72ba-4136-8a79-018c19d7c7c0"
      },
      "execution_count": null,
      "outputs": [
        {
          "output_type": "stream",
          "name": "stdout",
          "text": [
            "Displaying 8 of 8 matches:\n",
            "d lips protect severus swear make unbreakable vow unbreakable vow snape express\n",
            "everus swear make unbreakable vow unbreakable vow snape expression blank unread\n",
            "and certainly narcissa shall make unbreakable vow said quietly perhaps sister c\n",
            "d harry thought heard sob slammed unbreakable vow snow swirling icy windows chr\n",
            "p swore mother would protect made unbreakable vow draco looks like break need p\n",
            "omised malfoy mother protect made unbreakable oath something unbreakable vow sa\n",
            "t made unbreakable oath something unbreakable vow said ron looking stunned nah \n",
            "s sure said harry mean well break unbreakable vow worked much funnily enough ha\n"
          ]
        }
      ]
    },
    {
      "cell_type": "code",
      "source": [
        "analytics_hp_hallows.concordance('voldemort')"
      ],
      "metadata": {
        "colab": {
          "base_uri": "https://localhost:8080/"
        },
        "id": "OXfN2BO4FeOQ",
        "outputId": "79157622-0448-45b6-ed26-d448a6c27f5f"
      },
      "execution_count": null,
      "outputs": [
        {
          "output_type": "stream",
          "name": "stdout",
          "text": [
            "Displaying 25 of 446 matches:\n",
            "emed emit pearly glow severus said voldemort indicating seat immediate right ya\n",
            "s eyes around table followed snape voldemort spoke first lord order phoenix int\n",
            "fened others fidgeted gazing snape voldemort saturday nightfall repeated voldem\n",
            "demort saturday nightfall repeated voldemort red eyes fastened upon snape black\n",
            "e snape however looked calmly back voldemort face moment two voldemort lipless \n",
            "mly back voldemort face moment two voldemort lipless mouth curved something lik\n",
            "ley leaned forward look long table voldemort snape faces turned lord heard diff\n",
            "rd heard differently yaxley waited voldemort speak went dawlish auror let slip \n",
            "e wheezy giggle echoed along table voldemort laugh gaze wandered upward body re\n",
            "ire party aurors used transfer boy voldemort held large white hand yaxley subsi\n",
            "xley subsided watching resentfully voldemort turned back snape going hide boy n\n",
            "nchantments break rest well yaxley voldemort called table firelight glinting st\n",
            "isted face clapped back start said voldemort thicknesse one man scrimgeour must\n",
            "sse discovered converted rest said voldemort rate remains unlikely ministry min\n",
            "trust everything place better said voldemort move open easier take far voldemor\n",
            "oldemort move open easier take far voldemort looked slowly revolving body went \n",
            "umphs company around table watched voldemort apprehensively expression afraid m\n",
            "d harry potter continued existence voldemort however seemed speaking still addr\n",
            "nd seemed issue feet wormtail said voldemort change quiet thoughtful tone witho\n",
            "ious gleam silver saying continued voldemort looking tense faces followers unde\n",
            "ed borrow one arms volunteers said voldemort let see lucius see reason wand any\n",
            "d robes withdrew wand passed along voldemort held front red eyes examining clos\n",
            "ragon dragon heartstring good said voldemort drew wand compared lengths lucius \n",
            "ion second seemed expected receive voldemort wand exchange gesture missed volde\n",
            "emort wand exchange gesture missed voldemort whose eyes widened maliciously giv\n"
          ]
        }
      ]
    },
    {
      "cell_type": "markdown",
      "source": [
        "# Bigramas de texto"
      ],
      "metadata": {
        "id": "iebiVRt0vVoF"
      }
    },
    {
      "cell_type": "code",
      "source": [
        "analytics_hp_philosopher_stone.collocations()"
      ],
      "metadata": {
        "colab": {
          "base_uri": "https://localhost:8080/"
        },
        "id": "r17TVAikvILf",
        "outputId": "88bb6b44-6ae0-4f0f-9fb2-3d68afde84cf"
      },
      "execution_count": null,
      "outputs": [
        {
          "output_type": "stream",
          "name": "stdout",
          "text": [
            "uncle vernon; professor mcgonagall; aunt petunia; said ron; said\n",
            "hagrid; said harry; crabbe goyle; privet drive; common room; fred\n",
            "george; madam pomfrey; mrs dursley; invisibility cloak; mrs norris;\n",
            "nimbus two; madam hooch; nicolas flamel; leaky cauldron; first years;\n",
            "sorcerer stone\n"
          ]
        }
      ]
    },
    {
      "cell_type": "code",
      "source": [
        "analytics_hp_chamber_secrets.collocations()"
      ],
      "metadata": {
        "colab": {
          "base_uri": "https://localhost:8080/"
        },
        "id": "oqvmiK7cvZyw",
        "outputId": "edde4ade-00d4-41b5-eb82-b0b4854d6148"
      },
      "execution_count": null,
      "outputs": [
        {
          "output_type": "stream",
          "name": "stdout",
          "text": [
            "professor mcgonagall; said ron; uncle vernon; mrs weasley; chamber\n",
            "secrets; fred george; headless nick; said harry; madam pomfrey; nearly\n",
            "headless; harry potter; gilderoy lockhart; moaning myrtle; aunt\n",
            "petunia; hospital wing; mrs norris; common room; sorting hat;\n",
            "professor sprout; crabbe goyle\n"
          ]
        }
      ]
    },
    {
      "cell_type": "code",
      "source": [
        "analytics_hp_azkaban.collocations()"
      ],
      "metadata": {
        "colab": {
          "base_uri": "https://localhost:8080/"
        },
        "id": "8J22Rsa0T2Jr",
        "outputId": "342c4b09-9156-482c-fc56-8ba67d4277ba"
      },
      "execution_count": null,
      "outputs": [
        {
          "output_type": "stream",
          "name": "stdout",
          "text": [
            "uncle vernon; professor mcgonagall; professor trelawney; professor\n",
            "lupin; aunt marge; said ron; madam pomfrey; common room; said harry;\n",
            "crabbe goyle; fred george; ron hermione; expecto patronum; sirius\n",
            "black; hospital wing; said hermione; mrs weasley; invisibility cloak;\n",
            "dark arts; aunt petunia\n"
          ]
        }
      ]
    },
    {
      "cell_type": "code",
      "source": [
        "analytics_hp_goblet_fire.collocations()"
      ],
      "metadata": {
        "colab": {
          "base_uri": "https://localhost:8080/"
        },
        "id": "ENa2JO08T_J8",
        "outputId": "b84dd83a-4a75-4008-a470-ab19f272ad3c"
      },
      "execution_count": null,
      "outputs": [
        {
          "output_type": "stream",
          "name": "stdout",
          "text": [
            "madame maxime; mrs weasley; uncle vernon; rita skeeter; said ron;\n",
            "professor mcgonagall; death eaters; said harry; fred george; world\n",
            "cup; aunt petunia; said hermione; ron hermione; ludo bagman; daily\n",
            "prophet; great hall; entrance hall; common room; crabbe goyle;\n",
            "invisibility cloak\n"
          ]
        }
      ]
    },
    {
      "cell_type": "code",
      "source": [
        "analytics_hp_phoenix.collocations()"
      ],
      "metadata": {
        "colab": {
          "base_uri": "https://localhost:8080/"
        },
        "id": "SW95r__nFk86",
        "outputId": "f646e1fb-75ad-4f09-ac46-12f28f456efc"
      },
      "execution_count": null,
      "outputs": [
        {
          "output_type": "stream",
          "name": "stdout",
          "text": [
            "mrs weasley; professor mcgonagall; said harry; uncle vernon; said\n",
            "hermione; professor umbridge; fred george; death eaters; said ron;\n",
            "aunt petunia; grubbly plank; department mysteries; daily prophet; dark\n",
            "arts; ministry magic; common room; death eater; professor trelawney;\n",
            "defense dark; ron hermione\n"
          ]
        }
      ]
    },
    {
      "cell_type": "code",
      "source": [
        "analytics_hp_prince.collocations()"
      ],
      "metadata": {
        "colab": {
          "base_uri": "https://localhost:8080/"
        },
        "id": "L5Lohr4Ju3rU",
        "outputId": "fc4fa4c7-1389-4918-abd0-1b0c31b68752"
      },
      "execution_count": null,
      "outputs": [
        {
          "output_type": "stream",
          "name": "stdout",
          "text": [
            "mrs weasley; prime minister; said harry; said dumbledore; death\n",
            "eaters; professor mcgonagall; said hermione; dark lord; death eater;\n",
            "common room; said ron; invisibility cloak; fred george; dark arts;\n",
            "felix felicis; madam pomfrey; ron hermione; professor trelawney; room\n",
            "requirement; lord voldemort\n"
          ]
        }
      ]
    },
    {
      "cell_type": "code",
      "source": [
        "analytics_hp_hallows.collocations()"
      ],
      "metadata": {
        "colab": {
          "base_uri": "https://localhost:8080/"
        },
        "id": "dE-FPjmuu7Ql",
        "outputId": "d5151ec9-1907-4a40-fda2-46e690ae5eca"
      },
      "execution_count": null,
      "outputs": [
        {
          "output_type": "stream",
          "name": "stdout",
          "text": [
            "death eaters; mrs weasley; said harry; godric hollow; invisibility\n",
            "cloak; said ron; death eater; ron hermione; said hermione; professor\n",
            "mcgonagall; mad eye; phineas nigellus; elder wand; deathly hallows;\n",
            "uncle vernon; dark lord; auntie muriel; fred george; beaded bag; bill\n",
            "fleur\n"
          ]
        }
      ]
    },
    {
      "cell_type": "markdown",
      "source": [
        "# Categorias - Filtro por gêneros"
      ],
      "metadata": {
        "id": "c-hgLbeu8NKU"
      }
    },
    {
      "cell_type": "code",
      "source": [
        "from nltk.util import unique_list"
      ],
      "metadata": {
        "id": "ZP4nN1EjSlLr"
      },
      "execution_count": null,
      "outputs": []
    },
    {
      "cell_type": "code",
      "source": [
        "corpus = nltk.corpus.brown.tagged_sents(categories='mystery')\n",
        "print(corpus)"
      ],
      "metadata": {
        "id": "Z5CHmjjWSuaG",
        "colab": {
          "base_uri": "https://localhost:8080/"
        },
        "outputId": "5954999b-0b4c-4cb9-b4c3-9b1785103880"
      },
      "execution_count": null,
      "outputs": [
        {
          "output_type": "stream",
          "name": "stdout",
          "text": [
            "[[('There', 'EX'), ('were', 'BED'), ('thirty-eight', 'CD'), ('patients', 'NNS'), ('on', 'IN'), ('the', 'AT'), ('bus', 'NN'), ('the', 'AT'), ('morning', 'NN'), ('I', 'PPSS'), ('left', 'VBD'), ('for', 'IN'), ('Hanover', 'NP'), (',', ','), ('most', 'AP'), ('of', 'IN'), ('them', 'PPO'), ('disturbed', 'VBN'), ('and', 'CC'), ('hallucinating', 'VBG'), ('.', '.')], [('An', 'AT'), ('interne', 'NN'), (',', ','), ('a', 'AT'), ('nurse', 'NN'), ('and', 'CC'), ('two', 'CD'), ('attendants', 'NNS'), ('were', 'BED'), ('in', 'IN'), ('charge', 'NN'), ('of', 'IN'), ('us', 'PPO'), ('.', '.')], ...]\n"
          ]
        }
      ]
    },
    {
      "cell_type": "code",
      "source": [
        "tag_set = unique_list(tag for sent in corpus for (word,tag) in sent)\n",
        "print(len(tag_set))\n",
        "\n",
        "symbols = unique_list(word for sent in corpus for (word,tag) in sent)\n",
        "print(len(symbols))\n",
        "\n",
        "trainer = nltk.tag.HiddenMarkovModelTrainer(tag_set, symbols)"
      ],
      "metadata": {
        "colab": {
          "base_uri": "https://localhost:8080/"
        },
        "id": "UAgyxUZxSfro",
        "outputId": "7a4a9aca-1876-4081-8e3d-a767122a2008"
      },
      "execution_count": null,
      "outputs": [
        {
          "output_type": "stream",
          "name": "stdout",
          "text": [
            "169\n",
            "6982\n"
          ]
        }
      ]
    },
    {
      "cell_type": "code",
      "source": [
        "train_corpus = []\n",
        "test_corpus = []\n",
        "for i in range(len(corpus)):\n",
        "     if i % 10:\n",
        "         train_corpus += [corpus[i]]\n",
        "     else:\n",
        "         test_corpus += [corpus[i]]\n",
        "print(len(train_corpus))\n",
        "\n",
        "print(len(test_corpus))"
      ],
      "metadata": {
        "colab": {
          "base_uri": "https://localhost:8080/"
        },
        "id": "aKRP7wCuTJm_",
        "outputId": "e5e26aa6-a94f-47c6-f765-ee6b4eb27689"
      },
      "execution_count": null,
      "outputs": [
        {
          "output_type": "stream",
          "name": "stdout",
          "text": [
            "3497\n",
            "389\n"
          ]
        }
      ]
    },
    {
      "cell_type": "code",
      "source": [
        "pf = nltk.SimpleGoodTuringProbDist(prob_hp_philosopher_stone)"
      ],
      "metadata": {
        "id": "n2ZZ-P5AT1qK"
      },
      "execution_count": null,
      "outputs": []
    },
    {
      "cell_type": "code",
      "source": [
        "pf.prob('potter')"
      ],
      "metadata": {
        "colab": {
          "base_uri": "https://localhost:8080/"
        },
        "id": "wgi7wA6EUDHF",
        "outputId": "bcb1044e-5615-43bc-cc03-dd099b52ff1b"
      },
      "execution_count": null,
      "outputs": [
        {
          "output_type": "execute_result",
          "data": {
            "text/plain": [
              "0.0024613806443056444"
            ]
          },
          "metadata": {},
          "execution_count": 61
        }
      ]
    },
    {
      "cell_type": "code",
      "source": [
        "list(prob_hp_philosopher_stone._cumulative_frequencies(['harry']))"
      ],
      "metadata": {
        "colab": {
          "base_uri": "https://localhost:8080/"
        },
        "id": "ErY3uYxSUYMX",
        "outputId": "d35c90a0-10a6-4069-f682-43f4d84f6019"
      },
      "execution_count": null,
      "outputs": [
        {
          "output_type": "execute_result",
          "data": {
            "text/plain": [
              "[1325.0]"
            ]
          },
          "metadata": {},
          "execution_count": 65
        }
      ]
    },
    {
      "cell_type": "code",
      "source": [
        "print(nltk.corpus.brown.categories())"
      ],
      "metadata": {
        "colab": {
          "base_uri": "https://localhost:8080/"
        },
        "id": "aYuJJcRO8TYx",
        "outputId": "76378a7e-4624-4249-a484-6dbe5faa3ed9"
      },
      "execution_count": null,
      "outputs": [
        {
          "output_type": "stream",
          "name": "stdout",
          "text": [
            "['adventure', 'belles_lettres', 'editorial', 'fiction', 'government', 'hobbies', 'humor', 'learned', 'lore', 'mystery', 'news', 'religion', 'reviews', 'romance', 'science_fiction']\n"
          ]
        }
      ]
    },
    {
      "cell_type": "code",
      "source": [
        "words_mystery = nltk.corpus.brown.words(categories='mystery')\n",
        "\n",
        "categories = nltk.corpus.brown.categories()\n",
        "\n",
        "words = nltk.corpus.brown.words()\n",
        "\n",
        "print(len(words_mystery))\n",
        "\n",
        "print(len(nltk.corpus.brown.words(categories='fiction')))\n",
        "\n",
        "print(len(words))"
      ],
      "metadata": {
        "colab": {
          "base_uri": "https://localhost:8080/"
        },
        "id": "Kymv9ykQ98tC",
        "outputId": "4dddf0d4-eb5d-41c0-92c7-e5c47b539c26"
      },
      "execution_count": null,
      "outputs": [
        {
          "output_type": "stream",
          "name": "stdout",
          "text": [
            "57169\n",
            "68488\n",
            "1161192\n"
          ]
        }
      ]
    },
    {
      "cell_type": "code",
      "source": [
        "categories"
      ],
      "metadata": {
        "colab": {
          "base_uri": "https://localhost:8080/"
        },
        "id": "Dege2NrKVDmD",
        "outputId": "f342af72-7f0b-48ac-d178-8badbdc32de8"
      },
      "execution_count": null,
      "outputs": [
        {
          "output_type": "execute_result",
          "data": {
            "text/plain": [
              "['adventure',\n",
              " 'belles_lettres',\n",
              " 'editorial',\n",
              " 'fiction',\n",
              " 'government',\n",
              " 'hobbies',\n",
              " 'humor',\n",
              " 'learned',\n",
              " 'lore',\n",
              " 'mystery',\n",
              " 'news',\n",
              " 'religion',\n",
              " 'reviews',\n",
              " 'romance',\n",
              " 'science_fiction']"
            ]
          },
          "metadata": {},
          "execution_count": 49
        }
      ]
    },
    {
      "cell_type": "code",
      "source": [
        "for i in categories:\n",
        "  print(i + ' => Words: ' + str(len(nltk.corpus.brown.words(categories=i))))"
      ],
      "metadata": {
        "colab": {
          "base_uri": "https://localhost:8080/"
        },
        "id": "gHyzcnsdVIXj",
        "outputId": "c17dffed-ef4a-4222-bff0-5eb1a3e7113f"
      },
      "execution_count": null,
      "outputs": [
        {
          "output_type": "stream",
          "name": "stdout",
          "text": [
            "adventure => Words: 69342\n",
            "belles_lettres => Words: 173096\n",
            "editorial => Words: 61604\n",
            "fiction => Words: 68488\n",
            "government => Words: 70117\n",
            "hobbies => Words: 82345\n",
            "humor => Words: 21695\n",
            "learned => Words: 181888\n",
            "lore => Words: 110299\n",
            "mystery => Words: 57169\n",
            "news => Words: 100554\n",
            "religion => Words: 39399\n",
            "reviews => Words: 40704\n",
            "romance => Words: 70022\n",
            "science_fiction => Words: 14470\n"
          ]
        }
      ]
    },
    {
      "cell_type": "markdown",
      "source": [
        "# Teste de leitura de informações coletadas em um site"
      ],
      "metadata": {
        "id": "68nM0NEQ87di"
      }
    },
    {
      "cell_type": "code",
      "source": [
        "import urllib.request\n",
        "\n",
        "#\"https://www.gutenberg.org/files/68611/68611-0.txt\"\n",
        "\n",
        "text_web = urllib.request.urlopen(\"https://viniciusanl.github.io\").read()\n",
        "\n",
        "book_gutemberg = processing_text(str(text_web, 'utf8'), english_stopwords)\n",
        "\n",
        "print(book_gutemberg)"
      ],
      "metadata": {
        "id": "5hDzxLS7Bi87",
        "colab": {
          "base_uri": "https://localhost:8080/"
        },
        "outputId": "ecefb082-3dda-4b71-ef2b-98a322cdc990"
      },
      "execution_count": null,
      "outputs": [
        {
          "output_type": "stream",
          "name": "stdout",
          "text": [
            "doctype html html lang pt br head meta charset utf meta http equiv ua compatible content ie edge meta name viewport content width device width initial scale meta name theme color content link rel icon type image png href internet png title vinícius andrade lopes title link rel stylesheet type text css href app css link rel stylesheet href https maxcdn bootstrapcdn com bootstrap css bootstrap min css integrity pmstsz crossorigin anonymous link rel stylesheet href https use fontawesome com releases css css integrity crossorigin anonymous link href https fonts googleapis com css family handlee rel stylesheet font family handlee cursive fonte dos caracteres link rel icon type image href icones facebook logo png link href https fonts googleapis com css family comfortaa rel stylesheet font family comfortaa cursive font textor menores link href https fonts googleapis com css family montserrat alternates rel stylesheet head body div class app header class app header minha imagem img src icones logo vinicius png class img align content title vinicius andrade lopes class cor titulo lt span class titulo vinícius andrade lopes span gt lt gt br class cor texto span class texto não sonhe pequenos sonhos pois eles não têm poder de mover coração dos homens span br span class texto cite johann wolfgang von goethe cite span li class icons href https drive google com file view target _blank img src icones portfolio png class icon cv li footer dos icones target blank abre página em outra aba div class footer icon li class icons href https www linkedin com vinicius andrade lopes target _blank img src icones linkedin sign png class icons li nbsp nbsp espaçamento li class icons href https github com viniciusanl target _blank img src icones github sign png class icons li nbsp li class icons href https www instagram com vinicius_anl target _blank img src icones instagram png class icons li nbsp li class icons href http api whatsapp com send pt_br phone target _blank img src icones whatsapp png class icons li div header footer assinatura div class footer div div body html html\n"
          ]
        }
      ]
    }
  ]
}