{
  "nbformat": 4,
  "nbformat_minor": 0,
  "metadata": {
    "colab": {
      "provenance": [],
      "collapsed_sections": [],
      "authorship_tag": "ABX9TyMJbkNOTnDac9oWYqMIiToe"
    },
    "kernelspec": {
      "name": "python3",
      "display_name": "Python 3"
    },
    "language_info": {
      "name": "python"
    }
  },
  "cells": [
    {
      "cell_type": "markdown",
      "source": [
        "# Motivação"
      ],
      "metadata": {
        "id": "c5RJByb39O_0"
      }
    },
    {
      "cell_type": "markdown",
      "source": [
        "O objetivo principal deste trabalho é estudar, entender e implementar as principais técnicas de análise e processamento de linguagem natural. Para que esse trabalho se torne possível, será necessário utilizar a biblioteca NLTK (Natural Language Toolkit) que possui ferramentas para realizar processamento simbólico e estatístico de linguagem natural.\n",
        "\n",
        "\n",
        "* [Dcumentation NLTK - Natural Language Toolkit](https://www.nltk.org)\n",
        "* [Natural Language Processing with Python Analyzing Text with the Natural Language Toolkit](https://www.nltk.org/book_1ed/)\n",
        "* [Processing Raw Text](https://www.nltk.org/book_1ed/ch03.html)"
      ],
      "metadata": {
        "id": "0g14nqo514cw"
      }
    },
    {
      "cell_type": "markdown",
      "source": [
        "# Importar bibliotecas necessárias"
      ],
      "metadata": {
        "id": "i50pq_qLpZVa"
      }
    },
    {
      "cell_type": "code",
      "execution_count": 1,
      "metadata": {
        "id": "CPekYEM7_-Tv"
      },
      "outputs": [],
      "source": [
        "import nltk, urllib.request, os, re\n",
        "import pandas as pd\n",
        "from google.colab import drive "
      ]
    },
    {
      "cell_type": "markdown",
      "source": [
        "# Download de todos os componentes necessários da biblioteca NLTK"
      ],
      "metadata": {
        "id": "xJE-Br5speDc"
      }
    },
    {
      "cell_type": "code",
      "source": [
        "nltk.download('all')\n",
        "nltk.download('stopwords')"
      ],
      "metadata": {
        "id": "T7FxOx6nCiXp",
        "colab": {
          "base_uri": "https://localhost:8080/"
        },
        "outputId": "892c9376-993e-485f-a4ad-d3eac88cca88"
      },
      "execution_count": 2,
      "outputs": [
        {
          "output_type": "stream",
          "name": "stderr",
          "text": [
            "[nltk_data] Downloading collection 'all'\n",
            "[nltk_data]    | \n",
            "[nltk_data]    | Downloading package abc to /root/nltk_data...\n",
            "[nltk_data]    |   Unzipping corpora/abc.zip.\n",
            "[nltk_data]    | Downloading package alpino to /root/nltk_data...\n",
            "[nltk_data]    |   Unzipping corpora/alpino.zip.\n",
            "[nltk_data]    | Downloading package averaged_perceptron_tagger to\n",
            "[nltk_data]    |     /root/nltk_data...\n",
            "[nltk_data]    |   Unzipping taggers/averaged_perceptron_tagger.zip.\n",
            "[nltk_data]    | Downloading package averaged_perceptron_tagger_ru to\n",
            "[nltk_data]    |     /root/nltk_data...\n",
            "[nltk_data]    |   Unzipping\n",
            "[nltk_data]    |       taggers/averaged_perceptron_tagger_ru.zip.\n",
            "[nltk_data]    | Downloading package basque_grammars to\n",
            "[nltk_data]    |     /root/nltk_data...\n",
            "[nltk_data]    |   Unzipping grammars/basque_grammars.zip.\n",
            "[nltk_data]    | Downloading package biocreative_ppi to\n",
            "[nltk_data]    |     /root/nltk_data...\n",
            "[nltk_data]    |   Unzipping corpora/biocreative_ppi.zip.\n",
            "[nltk_data]    | Downloading package bllip_wsj_no_aux to\n",
            "[nltk_data]    |     /root/nltk_data...\n",
            "[nltk_data]    |   Unzipping models/bllip_wsj_no_aux.zip.\n",
            "[nltk_data]    | Downloading package book_grammars to\n",
            "[nltk_data]    |     /root/nltk_data...\n",
            "[nltk_data]    |   Unzipping grammars/book_grammars.zip.\n",
            "[nltk_data]    | Downloading package brown to /root/nltk_data...\n",
            "[nltk_data]    |   Unzipping corpora/brown.zip.\n",
            "[nltk_data]    | Downloading package brown_tei to /root/nltk_data...\n",
            "[nltk_data]    |   Unzipping corpora/brown_tei.zip.\n",
            "[nltk_data]    | Downloading package cess_cat to /root/nltk_data...\n",
            "[nltk_data]    |   Unzipping corpora/cess_cat.zip.\n",
            "[nltk_data]    | Downloading package cess_esp to /root/nltk_data...\n",
            "[nltk_data]    |   Unzipping corpora/cess_esp.zip.\n",
            "[nltk_data]    | Downloading package chat80 to /root/nltk_data...\n",
            "[nltk_data]    |   Unzipping corpora/chat80.zip.\n",
            "[nltk_data]    | Downloading package city_database to\n",
            "[nltk_data]    |     /root/nltk_data...\n",
            "[nltk_data]    |   Unzipping corpora/city_database.zip.\n",
            "[nltk_data]    | Downloading package cmudict to /root/nltk_data...\n",
            "[nltk_data]    |   Unzipping corpora/cmudict.zip.\n",
            "[nltk_data]    | Downloading package comparative_sentences to\n",
            "[nltk_data]    |     /root/nltk_data...\n",
            "[nltk_data]    |   Unzipping corpora/comparative_sentences.zip.\n",
            "[nltk_data]    | Downloading package comtrans to /root/nltk_data...\n",
            "[nltk_data]    | Downloading package conll2000 to /root/nltk_data...\n",
            "[nltk_data]    |   Unzipping corpora/conll2000.zip.\n",
            "[nltk_data]    | Downloading package conll2002 to /root/nltk_data...\n",
            "[nltk_data]    |   Unzipping corpora/conll2002.zip.\n",
            "[nltk_data]    | Downloading package conll2007 to /root/nltk_data...\n",
            "[nltk_data]    | Downloading package crubadan to /root/nltk_data...\n",
            "[nltk_data]    |   Unzipping corpora/crubadan.zip.\n",
            "[nltk_data]    | Downloading package dependency_treebank to\n",
            "[nltk_data]    |     /root/nltk_data...\n",
            "[nltk_data]    |   Unzipping corpora/dependency_treebank.zip.\n",
            "[nltk_data]    | Downloading package dolch to /root/nltk_data...\n",
            "[nltk_data]    |   Unzipping corpora/dolch.zip.\n",
            "[nltk_data]    | Downloading package europarl_raw to\n",
            "[nltk_data]    |     /root/nltk_data...\n",
            "[nltk_data]    |   Unzipping corpora/europarl_raw.zip.\n",
            "[nltk_data]    | Downloading package extended_omw to\n",
            "[nltk_data]    |     /root/nltk_data...\n",
            "[nltk_data]    | Downloading package floresta to /root/nltk_data...\n",
            "[nltk_data]    |   Unzipping corpora/floresta.zip.\n",
            "[nltk_data]    | Downloading package framenet_v15 to\n",
            "[nltk_data]    |     /root/nltk_data...\n",
            "[nltk_data]    |   Unzipping corpora/framenet_v15.zip.\n",
            "[nltk_data]    | Downloading package framenet_v17 to\n",
            "[nltk_data]    |     /root/nltk_data...\n",
            "[nltk_data]    |   Unzipping corpora/framenet_v17.zip.\n",
            "[nltk_data]    | Downloading package gazetteers to /root/nltk_data...\n",
            "[nltk_data]    |   Unzipping corpora/gazetteers.zip.\n",
            "[nltk_data]    | Downloading package genesis to /root/nltk_data...\n",
            "[nltk_data]    |   Unzipping corpora/genesis.zip.\n",
            "[nltk_data]    | Downloading package gutenberg to /root/nltk_data...\n",
            "[nltk_data]    |   Unzipping corpora/gutenberg.zip.\n",
            "[nltk_data]    | Downloading package ieer to /root/nltk_data...\n",
            "[nltk_data]    |   Unzipping corpora/ieer.zip.\n",
            "[nltk_data]    | Downloading package inaugural to /root/nltk_data...\n",
            "[nltk_data]    |   Unzipping corpora/inaugural.zip.\n",
            "[nltk_data]    | Downloading package indian to /root/nltk_data...\n",
            "[nltk_data]    |   Unzipping corpora/indian.zip.\n",
            "[nltk_data]    | Downloading package jeita to /root/nltk_data...\n",
            "[nltk_data]    | Downloading package kimmo to /root/nltk_data...\n",
            "[nltk_data]    |   Unzipping corpora/kimmo.zip.\n",
            "[nltk_data]    | Downloading package knbc to /root/nltk_data...\n",
            "[nltk_data]    | Downloading package large_grammars to\n",
            "[nltk_data]    |     /root/nltk_data...\n",
            "[nltk_data]    |   Unzipping grammars/large_grammars.zip.\n",
            "[nltk_data]    | Downloading package lin_thesaurus to\n",
            "[nltk_data]    |     /root/nltk_data...\n",
            "[nltk_data]    |   Unzipping corpora/lin_thesaurus.zip.\n",
            "[nltk_data]    | Downloading package mac_morpho to /root/nltk_data...\n",
            "[nltk_data]    |   Unzipping corpora/mac_morpho.zip.\n",
            "[nltk_data]    | Downloading package machado to /root/nltk_data...\n",
            "[nltk_data]    | Downloading package masc_tagged to /root/nltk_data...\n",
            "[nltk_data]    | Downloading package maxent_ne_chunker to\n",
            "[nltk_data]    |     /root/nltk_data...\n",
            "[nltk_data]    |   Unzipping chunkers/maxent_ne_chunker.zip.\n",
            "[nltk_data]    | Downloading package maxent_treebank_pos_tagger to\n",
            "[nltk_data]    |     /root/nltk_data...\n",
            "[nltk_data]    |   Unzipping taggers/maxent_treebank_pos_tagger.zip.\n",
            "[nltk_data]    | Downloading package moses_sample to\n",
            "[nltk_data]    |     /root/nltk_data...\n",
            "[nltk_data]    |   Unzipping models/moses_sample.zip.\n",
            "[nltk_data]    | Downloading package movie_reviews to\n",
            "[nltk_data]    |     /root/nltk_data...\n",
            "[nltk_data]    |   Unzipping corpora/movie_reviews.zip.\n",
            "[nltk_data]    | Downloading package mte_teip5 to /root/nltk_data...\n",
            "[nltk_data]    |   Unzipping corpora/mte_teip5.zip.\n",
            "[nltk_data]    | Downloading package mwa_ppdb to /root/nltk_data...\n",
            "[nltk_data]    |   Unzipping misc/mwa_ppdb.zip.\n",
            "[nltk_data]    | Downloading package names to /root/nltk_data...\n",
            "[nltk_data]    |   Unzipping corpora/names.zip.\n",
            "[nltk_data]    | Downloading package nombank.1.0 to /root/nltk_data...\n",
            "[nltk_data]    | Downloading package nonbreaking_prefixes to\n",
            "[nltk_data]    |     /root/nltk_data...\n",
            "[nltk_data]    |   Unzipping corpora/nonbreaking_prefixes.zip.\n",
            "[nltk_data]    | Downloading package nps_chat to /root/nltk_data...\n",
            "[nltk_data]    |   Unzipping corpora/nps_chat.zip.\n",
            "[nltk_data]    | Downloading package omw to /root/nltk_data...\n",
            "[nltk_data]    | Downloading package omw-1.4 to /root/nltk_data...\n",
            "[nltk_data]    | Downloading package opinion_lexicon to\n",
            "[nltk_data]    |     /root/nltk_data...\n",
            "[nltk_data]    |   Unzipping corpora/opinion_lexicon.zip.\n",
            "[nltk_data]    | Downloading package panlex_swadesh to\n",
            "[nltk_data]    |     /root/nltk_data...\n",
            "[nltk_data]    | Downloading package paradigms to /root/nltk_data...\n",
            "[nltk_data]    |   Unzipping corpora/paradigms.zip.\n",
            "[nltk_data]    | Downloading package pe08 to /root/nltk_data...\n",
            "[nltk_data]    |   Unzipping corpora/pe08.zip.\n",
            "[nltk_data]    | Downloading package perluniprops to\n",
            "[nltk_data]    |     /root/nltk_data...\n",
            "[nltk_data]    |   Unzipping misc/perluniprops.zip.\n",
            "[nltk_data]    | Downloading package pil to /root/nltk_data...\n",
            "[nltk_data]    |   Unzipping corpora/pil.zip.\n",
            "[nltk_data]    | Downloading package pl196x to /root/nltk_data...\n",
            "[nltk_data]    |   Unzipping corpora/pl196x.zip.\n",
            "[nltk_data]    | Downloading package porter_test to /root/nltk_data...\n",
            "[nltk_data]    |   Unzipping stemmers/porter_test.zip.\n",
            "[nltk_data]    | Downloading package ppattach to /root/nltk_data...\n",
            "[nltk_data]    |   Unzipping corpora/ppattach.zip.\n",
            "[nltk_data]    | Downloading package problem_reports to\n",
            "[nltk_data]    |     /root/nltk_data...\n",
            "[nltk_data]    |   Unzipping corpora/problem_reports.zip.\n",
            "[nltk_data]    | Downloading package product_reviews_1 to\n",
            "[nltk_data]    |     /root/nltk_data...\n",
            "[nltk_data]    |   Unzipping corpora/product_reviews_1.zip.\n",
            "[nltk_data]    | Downloading package product_reviews_2 to\n",
            "[nltk_data]    |     /root/nltk_data...\n",
            "[nltk_data]    |   Unzipping corpora/product_reviews_2.zip.\n",
            "[nltk_data]    | Downloading package propbank to /root/nltk_data...\n",
            "[nltk_data]    | Downloading package pros_cons to /root/nltk_data...\n",
            "[nltk_data]    |   Unzipping corpora/pros_cons.zip.\n",
            "[nltk_data]    | Downloading package ptb to /root/nltk_data...\n",
            "[nltk_data]    |   Unzipping corpora/ptb.zip.\n",
            "[nltk_data]    | Downloading package punkt to /root/nltk_data...\n",
            "[nltk_data]    |   Unzipping tokenizers/punkt.zip.\n",
            "[nltk_data]    | Downloading package qc to /root/nltk_data...\n",
            "[nltk_data]    |   Unzipping corpora/qc.zip.\n",
            "[nltk_data]    | Downloading package reuters to /root/nltk_data...\n",
            "[nltk_data]    | Downloading package rslp to /root/nltk_data...\n",
            "[nltk_data]    |   Unzipping stemmers/rslp.zip.\n",
            "[nltk_data]    | Downloading package rte to /root/nltk_data...\n",
            "[nltk_data]    |   Unzipping corpora/rte.zip.\n",
            "[nltk_data]    | Downloading package sample_grammars to\n",
            "[nltk_data]    |     /root/nltk_data...\n",
            "[nltk_data]    |   Unzipping grammars/sample_grammars.zip.\n",
            "[nltk_data]    | Downloading package semcor to /root/nltk_data...\n",
            "[nltk_data]    | Downloading package senseval to /root/nltk_data...\n",
            "[nltk_data]    |   Unzipping corpora/senseval.zip.\n",
            "[nltk_data]    | Downloading package sentence_polarity to\n",
            "[nltk_data]    |     /root/nltk_data...\n",
            "[nltk_data]    |   Unzipping corpora/sentence_polarity.zip.\n",
            "[nltk_data]    | Downloading package sentiwordnet to\n",
            "[nltk_data]    |     /root/nltk_data...\n",
            "[nltk_data]    |   Unzipping corpora/sentiwordnet.zip.\n",
            "[nltk_data]    | Downloading package shakespeare to /root/nltk_data...\n",
            "[nltk_data]    |   Unzipping corpora/shakespeare.zip.\n",
            "[nltk_data]    | Downloading package sinica_treebank to\n",
            "[nltk_data]    |     /root/nltk_data...\n",
            "[nltk_data]    |   Unzipping corpora/sinica_treebank.zip.\n",
            "[nltk_data]    | Downloading package smultron to /root/nltk_data...\n",
            "[nltk_data]    |   Unzipping corpora/smultron.zip.\n",
            "[nltk_data]    | Downloading package snowball_data to\n",
            "[nltk_data]    |     /root/nltk_data...\n",
            "[nltk_data]    | Downloading package spanish_grammars to\n",
            "[nltk_data]    |     /root/nltk_data...\n",
            "[nltk_data]    |   Unzipping grammars/spanish_grammars.zip.\n",
            "[nltk_data]    | Downloading package state_union to /root/nltk_data...\n",
            "[nltk_data]    |   Unzipping corpora/state_union.zip.\n",
            "[nltk_data]    | Downloading package stopwords to /root/nltk_data...\n",
            "[nltk_data]    |   Unzipping corpora/stopwords.zip.\n",
            "[nltk_data]    | Downloading package subjectivity to\n",
            "[nltk_data]    |     /root/nltk_data...\n",
            "[nltk_data]    |   Unzipping corpora/subjectivity.zip.\n",
            "[nltk_data]    | Downloading package swadesh to /root/nltk_data...\n",
            "[nltk_data]    |   Unzipping corpora/swadesh.zip.\n",
            "[nltk_data]    | Downloading package switchboard to /root/nltk_data...\n",
            "[nltk_data]    |   Unzipping corpora/switchboard.zip.\n",
            "[nltk_data]    | Downloading package tagsets to /root/nltk_data...\n",
            "[nltk_data]    |   Unzipping help/tagsets.zip.\n",
            "[nltk_data]    | Downloading package timit to /root/nltk_data...\n",
            "[nltk_data]    |   Unzipping corpora/timit.zip.\n",
            "[nltk_data]    | Downloading package toolbox to /root/nltk_data...\n",
            "[nltk_data]    |   Unzipping corpora/toolbox.zip.\n",
            "[nltk_data]    | Downloading package treebank to /root/nltk_data...\n",
            "[nltk_data]    |   Unzipping corpora/treebank.zip.\n",
            "[nltk_data]    | Downloading package twitter_samples to\n",
            "[nltk_data]    |     /root/nltk_data...\n",
            "[nltk_data]    |   Unzipping corpora/twitter_samples.zip.\n",
            "[nltk_data]    | Downloading package udhr to /root/nltk_data...\n",
            "[nltk_data]    |   Unzipping corpora/udhr.zip.\n",
            "[nltk_data]    | Downloading package udhr2 to /root/nltk_data...\n",
            "[nltk_data]    |   Unzipping corpora/udhr2.zip.\n",
            "[nltk_data]    | Downloading package unicode_samples to\n",
            "[nltk_data]    |     /root/nltk_data...\n",
            "[nltk_data]    |   Unzipping corpora/unicode_samples.zip.\n",
            "[nltk_data]    | Downloading package universal_tagset to\n",
            "[nltk_data]    |     /root/nltk_data...\n",
            "[nltk_data]    |   Unzipping taggers/universal_tagset.zip.\n",
            "[nltk_data]    | Downloading package universal_treebanks_v20 to\n",
            "[nltk_data]    |     /root/nltk_data...\n",
            "[nltk_data]    | Downloading package vader_lexicon to\n",
            "[nltk_data]    |     /root/nltk_data...\n",
            "[nltk_data]    | Downloading package verbnet to /root/nltk_data...\n",
            "[nltk_data]    |   Unzipping corpora/verbnet.zip.\n",
            "[nltk_data]    | Downloading package verbnet3 to /root/nltk_data...\n",
            "[nltk_data]    |   Unzipping corpora/verbnet3.zip.\n",
            "[nltk_data]    | Downloading package webtext to /root/nltk_data...\n",
            "[nltk_data]    |   Unzipping corpora/webtext.zip.\n",
            "[nltk_data]    | Downloading package wmt15_eval to /root/nltk_data...\n",
            "[nltk_data]    |   Unzipping models/wmt15_eval.zip.\n",
            "[nltk_data]    | Downloading package word2vec_sample to\n",
            "[nltk_data]    |     /root/nltk_data...\n",
            "[nltk_data]    |   Unzipping models/word2vec_sample.zip.\n",
            "[nltk_data]    | Downloading package wordnet to /root/nltk_data...\n",
            "[nltk_data]    | Downloading package wordnet2021 to /root/nltk_data...\n",
            "[nltk_data]    | Downloading package wordnet31 to /root/nltk_data...\n",
            "[nltk_data]    | Downloading package wordnet_ic to /root/nltk_data...\n",
            "[nltk_data]    |   Unzipping corpora/wordnet_ic.zip.\n",
            "[nltk_data]    | Downloading package words to /root/nltk_data...\n",
            "[nltk_data]    |   Unzipping corpora/words.zip.\n",
            "[nltk_data]    | Downloading package ycoe to /root/nltk_data...\n",
            "[nltk_data]    |   Unzipping corpora/ycoe.zip.\n",
            "[nltk_data]    | \n",
            "[nltk_data]  Done downloading collection all\n",
            "[nltk_data] Downloading package stopwords to /root/nltk_data...\n",
            "[nltk_data]   Package stopwords is already up-to-date!\n"
          ]
        },
        {
          "output_type": "execute_result",
          "data": {
            "text/plain": [
              "True"
            ]
          },
          "metadata": {},
          "execution_count": 2
        }
      ]
    },
    {
      "cell_type": "markdown",
      "source": [
        "# Criando as stopwords em português e inglês"
      ],
      "metadata": {
        "id": "pO-4jjdspkWC"
      }
    },
    {
      "cell_type": "code",
      "source": [
        "english_stopwords = nltk.corpus.stopwords.words('english')\n",
        "portuguese_stopwords = nltk.corpus.stopwords.words('portuguese')\n",
        "spanish_stopwords = nltk.corpus.stopwords.words('spanish')\n",
        "\n",
        "# Adiciona algumas stopwords em português para tratar algumas divergências analíticas\n",
        "add_stopwords_pt = ['capitulo', 'capítulo']\n",
        "portuguese_stopwords.extend(add_stopwords_pt)"
      ],
      "metadata": {
        "id": "_wUeiERCBAS4"
      },
      "execution_count": null,
      "outputs": []
    },
    {
      "cell_type": "markdown",
      "source": [
        "# Criando a função de processamento de texto\n",
        "\n",
        "O objetivo dessa função e remover as quebras de linhas e alguns caracteres especiais que não foram removidos com o decode"
      ],
      "metadata": {
        "id": "D1zIYRgHp4yp"
      }
    },
    {
      "cell_type": "code",
      "source": [
        "def processing_text(str_text, _stopwords):\n",
        "  text_format = re.findall(r'\\b[A-zÀ-úü]+\\b', str_text.lower())\n",
        "\n",
        "  if _stopwords:\n",
        "    no_stopwords = [words for words in text_format if words not in _stopwords and not len(words) == 1]\n",
        "  else:\n",
        "    no_stopwords = text_format\n",
        "\n",
        "  return(' '.join(no_stopwords))"
      ],
      "metadata": {
        "id": "m8j3FqMSAr-1"
      },
      "execution_count": null,
      "outputs": []
    },
    {
      "cell_type": "markdown",
      "source": [
        "# Escolhendo os textos a serem utilizados na função de processamento e realizar leitura de arquivos armazenados no Google Drive\n",
        "\n",
        "Foram utilizadas as os livros da escritora J. K. Rowling, especificamente a série do Harry Potter."
      ],
      "metadata": {
        "id": "bs6TurNFp-kv"
      }
    },
    {
      "cell_type": "markdown",
      "source": [
        "Para acessar os livros do Harry Potter que estão armazenados no Google Drive, vamos realizar a montagem do Drive para conseguir acessar como se fosse um repositório local de um PC.\n",
        "\n",
        "**PS: Vamos realizar a montagem apenas uma vez a cada execução do algoritmo, para não gastar processamento desnecessário.**"
      ],
      "metadata": {
        "id": "EtCPfxUF_sUn"
      }
    },
    {
      "cell_type": "code",
      "source": [
        "#drive.mount('/content/drive')"
      ],
      "metadata": {
        "id": "46HQRQGS8jpd",
        "colab": {
          "base_uri": "https://localhost:8080/"
        },
        "outputId": "b3d660d3-3e63-41c3-e00e-32ec40afc586"
      },
      "execution_count": null,
      "outputs": [
        {
          "output_type": "stream",
          "name": "stdout",
          "text": [
            "Mounted at /content/drive\n"
          ]
        }
      ]
    },
    {
      "cell_type": "markdown",
      "source": [
        "Acessando o repositório que foi montado no Google Drive para coletar a lista de todos os livros da pasta."
      ],
      "metadata": {
        "id": "bjifrBYeAPwh"
      }
    },
    {
      "cell_type": "code",
      "source": [
        "_path_books_drive = '/content/drive/MyDrive/Harry_Potter/'\n",
        "\n",
        "list_books_hp = sorted(os.listdir(_path_books_drive))\n",
        "\n",
        "list_books_hp"
      ],
      "metadata": {
        "id": "kBhGnp0B3Z7k",
        "colab": {
          "base_uri": "https://localhost:8080/"
        },
        "outputId": "b0f4c907-88ce-400c-9406-4dff02a7fbcb"
      },
      "execution_count": null,
      "outputs": [
        {
          "output_type": "execute_result",
          "data": {
            "text/plain": [
              "[\"Book 1 - The Philosopher's Stone.txt\",\n",
              " 'Book 2 - The Chamber of Secrets.txt',\n",
              " 'Book 3 - The Prisoner of Azkaban.txt',\n",
              " 'Book 4 - The Goblet of Fire.txt',\n",
              " 'Book 5 - The Order of the Phoenix.txt',\n",
              " 'Book 6 - The Half Blood Prince.txt',\n",
              " 'Book 7 - The Deathly Hallows.txt']"
            ]
          },
          "metadata": {},
          "execution_count": 6
        }
      ]
    },
    {
      "cell_type": "markdown",
      "source": [
        "Realizar a leitura de cada livro e passar o texto na função de processamento para remover pontuações e stopwords."
      ],
      "metadata": {
        "id": "UYfYsz5tAi3z"
      }
    },
    {
      "cell_type": "code",
      "source": [
        "books_hp_no_processed = []\n",
        "books_hp_processed = []\n",
        "\n",
        "for book in list_books_hp:\n",
        "  with open(_path_books_drive + book, encoding='utf8') as f:\n",
        "    _book = ''\n",
        "    for line in f:\n",
        "      if not line.startswith(\"Page |\"):\n",
        "          _book += line\n",
        "    \n",
        "    books_hp_no_processed.append(_book)\n",
        "    books_hp_processed.append(processing_text(_book, english_stopwords))"
      ],
      "metadata": {
        "id": "cb4V0Ym-8aAo"
      },
      "execution_count": null,
      "outputs": []
    },
    {
      "cell_type": "markdown",
      "source": [
        "Print do texto sem processamento e com o processamento da função."
      ],
      "metadata": {
        "id": "MFEWiHUlA8R5"
      }
    },
    {
      "cell_type": "code",
      "source": [
        "books_hp_no_processed[0]"
      ],
      "metadata": {
        "id": "NnpPqtNs0Blg"
      },
      "execution_count": null,
      "outputs": []
    },
    {
      "cell_type": "code",
      "source": [
        "books_hp_processed[0]"
      ],
      "metadata": {
        "id": "BniutSGO3Uqb"
      },
      "execution_count": null,
      "outputs": []
    },
    {
      "cell_type": "markdown",
      "source": [
        "# Códigos de terminal baseados em Linux\n",
        "\n",
        "É possível utilizar comandos Linux para navegar pelo diretório depois que ele foi montado no comando acima."
      ],
      "metadata": {
        "id": "WggHX6vXj02L"
      }
    },
    {
      "cell_type": "code",
      "source": [
        "!dir /content/drive/MyDrive/Harry_Potter/"
      ],
      "metadata": {
        "colab": {
          "base_uri": "https://localhost:8080/"
        },
        "id": "r7fRWCl-jyq3",
        "outputId": "ee6507b1-dde2-4482-f751-162f8f947852"
      },
      "execution_count": null,
      "outputs": [
        {
          "output_type": "stream",
          "name": "stdout",
          "text": [
            "Book\\ 1\\ -\\ The\\ Philosopher's\\ Stone.txt\n",
            "Book\\ 2\\ -\\ The\\ Chamber\\ of\\ Secrets.txt\n",
            "Book\\ 3\\ -\\ The\\ Prisoner\\ of\\ Azkaban.txt\n",
            "Book\\ 4\\ -\\ The\\ Goblet\\ of\\ Fire.txt\n",
            "Book\\ 5\\ -\\ The\\ Order\\ of\\ the\\ Phoenix.txt\n",
            "Book\\ 6\\ -\\ The\\ Half\\ Blood\\ Prince.txt\n",
            "Book\\ 7\\ -\\ The\\ Deathly\\ Hallows.txt\n"
          ]
        }
      ]
    },
    {
      "cell_type": "markdown",
      "source": [
        "# Tokenização dos textos\n",
        "\n",
        "A tokenização, também conhecida como segmentação de palavras, é responsável por quebrar as palavras de cada texto analisado, ou seja, ele identifica o início e o término das palavras do texto e faz a divisão.\n",
        "\n",
        "- Exemplo sem tokenização: \"Harry Potter é a melhor série de todos os tempos\"\n",
        "\n",
        "- Texto tokenizado: \"Harry\", \"Potter\", \"é\", \"a\", \"melhor\", \"série\", \"de\", \"todos\", \"os\", \"tempos\""
      ],
      "metadata": {
        "id": "uQ_zmMHYDCBB"
      }
    },
    {
      "cell_type": "code",
      "source": [
        "tokens_hp_philosopher_stone = nltk.tokenize.word_tokenize(books_hp_processed[0])\n",
        "tokens_hp_chamber_secrets = nltk.tokenize.word_tokenize(books_hp_processed[1])\n",
        "tokens_hp_azkaban = nltk.tokenize.word_tokenize(books_hp_processed[2])\n",
        "tokens_hp_goblet_fire = nltk.tokenize.word_tokenize(books_hp_processed[3])\n",
        "tokens_hp_phoenix = nltk.tokenize.word_tokenize(books_hp_processed[4])\n",
        "tokens_hp_prince = nltk.tokenize.word_tokenize(books_hp_processed[5])\n",
        "tokens_hp_hallows = nltk.tokenize.word_tokenize(books_hp_processed[6])"
      ],
      "metadata": {
        "id": "OGFXuEUIDIuO"
      },
      "execution_count": null,
      "outputs": []
    },
    {
      "cell_type": "markdown",
      "source": [
        "# Análise de frequência de palavras\n",
        "\n",
        "Uma distribuição de frequência pode ser usada para registrar a frequência de cada tipo de palavra em um documento, ou seja, essa função tem por objetivo calcular a inscidencia de vezes que uma palavra foi mencionada em um texto, documento, string."
      ],
      "metadata": {
        "id": "hoLpTQtYDjLf"
      }
    },
    {
      "cell_type": "code",
      "source": [
        "prob_hp_philosopher_stone = nltk.probability.FreqDist(tokens_hp_philosopher_stone)\n",
        "prob_hp_chamber_secrets = nltk.probability.FreqDist(tokens_hp_chamber_secrets)\n",
        "prob_hp_azkaban = nltk.probability.FreqDist(tokens_hp_azkaban)\n",
        "prob_hp_goblet_fire = nltk.probability.FreqDist(tokens_hp_goblet_fire)\n",
        "prob_hp_phoenix = nltk.probability.FreqDist(tokens_hp_phoenix)\n",
        "prob_hp_prince = nltk.probability.FreqDist(tokens_hp_prince)\n",
        "prob_hp_hallows = nltk.probability.FreqDist(tokens_hp_hallows)"
      ],
      "metadata": {
        "id": "GcFtzWrxDvd3"
      },
      "execution_count": null,
      "outputs": []
    },
    {
      "cell_type": "markdown",
      "source": [
        "# Print das 10 palavras que mais se repetem nos textos"
      ],
      "metadata": {
        "id": "d7OiVzajqEUd"
      }
    },
    {
      "cell_type": "code",
      "source": [
        "print(prob_hp_philosopher_stone.most_common(10))\n",
        "print(prob_hp_chamber_secrets.most_common(10))\n",
        "print(prob_hp_azkaban.most_common(10))\n",
        "print(prob_hp_goblet_fire.most_common(10))\n",
        "print(prob_hp_phoenix.most_common(10))\n",
        "print(prob_hp_prince.most_common(10))\n",
        "print(prob_hp_hallows.most_common(10))"
      ],
      "metadata": {
        "colab": {
          "base_uri": "https://localhost:8080/"
        },
        "id": "fMeW2xivcug9",
        "outputId": "5cb19cc7-97e2-4a96-8b46-f5071aa9fdb9"
      },
      "execution_count": null,
      "outputs": [
        {
          "output_type": "stream",
          "name": "stdout",
          "text": [
            "[('harry', 1325), ('said', 794), ('ron', 429), ('hagrid', 370), ('hermione', 269), ('back', 261), ('one', 256), ('know', 214), ('got', 207), ('could', 198)]\n",
            "[('harry', 1656), ('said', 1218), ('ron', 706), ('hermione', 320), ('back', 279), ('lockhart', 234), ('one', 222), ('malfoy', 222), ('could', 211), ('professor', 192)]\n",
            "[('harry', 2049), ('said', 1477), ('ron', 791), ('hermione', 672), ('professor', 416), ('lupin', 408), ('black', 390), ('back', 353), ('one', 305), ('hagrid', 268)]\n",
            "[('harry', 3171), ('said', 2638), ('ron', 1043), ('hermione', 871), ('dumbledore', 599), ('back', 589), ('mr', 523), ('around', 490), ('looked', 489), ('one', 488)]\n",
            "[('harry', 4089), ('said', 3945), ('ron', 1307), ('hermione', 1307), ('back', 791), ('well', 664), ('dumbledore', 661), ('sirius', 646), ('could', 639), ('know', 604)]\n",
            "[('harry', 2784), ('said', 2441), ('dumbledore', 1034), ('ron', 877), ('hermione', 694), ('could', 482), ('would', 456), ('back', 423), ('one', 409), ('well', 401)]\n",
            "[('harry', 3142), ('said', 1978), ('hermione', 1224), ('ron', 1176), ('could', 646), ('wand', 596), ('dumbledore', 589), ('back', 547), ('know', 541), ('like', 458)]\n"
          ]
        }
      ]
    },
    {
      "cell_type": "markdown",
      "source": [
        "# Palavra que mais se repete"
      ],
      "metadata": {
        "id": "BC6IrUI7qIXP"
      }
    },
    {
      "cell_type": "code",
      "source": [
        "print('Palavra que mais se repete no texto de ' + list_books_hp[0] + ': ' + prob_hp_philosopher_stone.max())\n",
        "print('Palavra que mais se repete no texto de ' + list_books_hp[1] + ': ' + prob_hp_chamber_secrets.max())\n",
        "print('Palavra que mais se repete no texto de ' + list_books_hp[2] + ': ' + prob_hp_azkaban.max())\n",
        "print('Palavra que mais se repete no texto de ' + list_books_hp[3] + ': ' + prob_hp_goblet_fire.max())\n",
        "print('Palavra que mais se repete no texto de ' + list_books_hp[4] + ': ' + prob_hp_phoenix.max())\n",
        "print('Palavra que mais se repete no texto de ' + list_books_hp[5] + ': ' + prob_hp_prince.max())\n",
        "print('Palavra que mais se repete no texto de ' + list_books_hp[6] + ': ' + prob_hp_hallows.max())"
      ],
      "metadata": {
        "colab": {
          "base_uri": "https://localhost:8080/"
        },
        "id": "azrebwAWc-M9",
        "outputId": "f33ea24a-dd4f-46c1-d11e-7d7004363aaa"
      },
      "execution_count": null,
      "outputs": [
        {
          "output_type": "stream",
          "name": "stdout",
          "text": [
            "Palavra que mais se repete no texto de Book 1 - The Philosopher's Stone.txt: harry\n",
            "Palavra que mais se repete no texto de Book 2 - The Chamber of Secrets.txt: harry\n",
            "Palavra que mais se repete no texto de Book 3 - The Prisoner of Azkaban.txt: harry\n",
            "Palavra que mais se repete no texto de Book 4 - The Goblet of Fire.txt: harry\n",
            "Palavra que mais se repete no texto de Book 5 - The Order of the Phoenix.txt: harry\n",
            "Palavra que mais se repete no texto de Book 6 - The Half Blood Prince.txt: harry\n",
            "Palavra que mais se repete no texto de Book 7 - The Deathly Hallows.txt: harry\n"
          ]
        }
      ]
    },
    {
      "cell_type": "markdown",
      "source": [
        "# Plot de 20 palavras que mais se repete nos livros"
      ],
      "metadata": {
        "id": "03CwNLTksXC4"
      }
    },
    {
      "cell_type": "code",
      "source": [
        "prob_hp_philosopher_stone.plot(20, title=list_books_hp[0].replace('.txt', ''))"
      ],
      "metadata": {
        "colab": {
          "base_uri": "https://localhost:8080/",
          "height": 362
        },
        "id": "-vOVfH-ZdF3_",
        "outputId": "84ab923d-e98d-438a-d345-632cd235763c"
      },
      "execution_count": null,
      "outputs": [
        {
          "output_type": "display_data",
          "data": {
            "text/plain": [
              "<Figure size 432x288 with 1 Axes>"
            ],
            "image/png": "[encoded data removed]"
          },
          "metadata": {
            "needs_background": "light"
          }
        },
        {
          "output_type": "execute_result",
          "data": {
            "text/plain": [
              "<matplotlib.axes._subplots.AxesSubplot at 0x7f5716ffa450>"
            ]
          },
          "metadata": {},
          "execution_count": 15
        }
      ]
    },
    {
      "cell_type": "code",
      "source": [
        "prob_hp_chamber_secrets.plot(20, title=list_books_hp[1].replace('.txt', ''))"
      ],
      "metadata": {
        "colab": {
          "base_uri": "https://localhost:8080/",
          "height": 362
        },
        "id": "l8iCc8DQo2Rn",
        "outputId": "3d4f37f6-dd98-4d07-cf9d-02ac173aaab9"
      },
      "execution_count": null,
      "outputs": [
        {
          "output_type": "display_data",
          "data": {
            "text/plain": [
              "<Figure size 432x288 with 1 Axes>"
            ],
            "image/png": "[encoded data removed]"
          },
          "metadata": {
            "needs_background": "light"
          }
        },
        {
          "output_type": "execute_result",
          "data": {
            "text/plain": [
              "<matplotlib.axes._subplots.AxesSubplot at 0x7f5716f5a510>"
            ]
          },
          "metadata": {},
          "execution_count": 16
        }
      ]
    },
    {
      "cell_type": "code",
      "source": [
        "prob_hp_azkaban.plot(20, title=list_books_hp[2].replace('.txt', ''))"
      ],
      "metadata": {
        "colab": {
          "base_uri": "https://localhost:8080/",
          "height": 350
        },
        "id": "65YFgdqzS1TW",
        "outputId": "84901f85-628b-48ca-8902-76aab402db0f"
      },
      "execution_count": null,
      "outputs": [
        {
          "output_type": "display_data",
          "data": {
            "text/plain": [
              "<Figure size 432x288 with 1 Axes>"
            ],
            "image/png": "[encoded data removed]"
          },
          "metadata": {
            "needs_background": "light"
          }
        },
        {
          "output_type": "execute_result",
          "data": {
            "text/plain": [
              "<matplotlib.axes._subplots.AxesSubplot at 0x7f5716a1f110>"
            ]
          },
          "metadata": {},
          "execution_count": 17
        }
      ]
    },
    {
      "cell_type": "code",
      "source": [
        "prob_hp_goblet_fire.plot(20, title=list_books_hp[3].replace('.txt', ''))"
      ],
      "metadata": {
        "colab": {
          "base_uri": "https://localhost:8080/",
          "height": 362
        },
        "id": "Fx74MQC1S73G",
        "outputId": "51a5a75b-b76c-4f38-d652-1797884d44d4"
      },
      "execution_count": null,
      "outputs": [
        {
          "output_type": "display_data",
          "data": {
            "text/plain": [
              "<Figure size 432x288 with 1 Axes>"
            ],
            "image/png": "[encoded data removed]"
          },
          "metadata": {
            "needs_background": "light"
          }
        },
        {
          "output_type": "execute_result",
          "data": {
            "text/plain": [
              "<matplotlib.axes._subplots.AxesSubplot at 0x7f57169fb950>"
            ]
          },
          "metadata": {},
          "execution_count": 18
        }
      ]
    },
    {
      "cell_type": "code",
      "source": [
        "prob_hp_phoenix.plot(20, title=list_books_hp[4].replace('.txt', ''))"
      ],
      "metadata": {
        "colab": {
          "base_uri": "https://localhost:8080/",
          "height": 362
        },
        "id": "AePQRbcZropj",
        "outputId": "bad8ef39-0d87-4b3b-8516-236838b00097"
      },
      "execution_count": null,
      "outputs": [
        {
          "output_type": "display_data",
          "data": {
            "text/plain": [
              "<Figure size 432x288 with 1 Axes>"
            ],
            "image/png": "[encoded data removed]"
          },
          "metadata": {
            "needs_background": "light"
          }
        },
        {
          "output_type": "execute_result",
          "data": {
            "text/plain": [
              "<matplotlib.axes._subplots.AxesSubplot at 0x7f5716a1f2d0>"
            ]
          },
          "metadata": {},
          "execution_count": 19
        }
      ]
    },
    {
      "cell_type": "code",
      "source": [
        "prob_hp_prince.plot(20, title=list_books_hp[5].replace('.txt', ''))"
      ],
      "metadata": {
        "colab": {
          "base_uri": "https://localhost:8080/",
          "height": 362
        },
        "id": "RpRVIFqorrag",
        "outputId": "9eff214b-667d-455f-ecf6-7cec0bea3dd3"
      },
      "execution_count": null,
      "outputs": [
        {
          "output_type": "display_data",
          "data": {
            "text/plain": [
              "<Figure size 432x288 with 1 Axes>"
            ],
            "image/png": "[encoded data removed]"
          },
          "metadata": {
            "needs_background": "light"
          }
        },
        {
          "output_type": "execute_result",
          "data": {
            "text/plain": [
              "<matplotlib.axes._subplots.AxesSubplot at 0x7f571688ac50>"
            ]
          },
          "metadata": {},
          "execution_count": 20
        }
      ]
    },
    {
      "cell_type": "code",
      "source": [
        "prob_hp_hallows.plot(20, title=list_books_hp[6].replace('.txt', ''))"
      ],
      "metadata": {
        "colab": {
          "base_uri": "https://localhost:8080/",
          "height": 362
        },
        "id": "PLikm9B6ElzG",
        "outputId": "7b5ef03c-5aed-489d-df0d-6f9911dbada3"
      },
      "execution_count": null,
      "outputs": [
        {
          "output_type": "display_data",
          "data": {
            "text/plain": [
              "<Figure size 432x288 with 1 Axes>"
            ],
            "image/png": "[encoded data removed]"
          },
          "metadata": {
            "needs_background": "light"
          }
        },
        {
          "output_type": "execute_result",
          "data": {
            "text/plain": [
              "<matplotlib.axes._subplots.AxesSubplot at 0x7f571685c7d0>"
            ]
          },
          "metadata": {},
          "execution_count": 21
        }
      ]
    },
    {
      "cell_type": "code",
      "source": [
        "analytics_hp_philosopher_stone = nltk.Text(tokens_hp_philosopher_stone)\n",
        "analytics_hp_chamber_secrets = nltk.Text(tokens_hp_chamber_secrets)\n",
        "analytics_hp_azkaban = nltk.Text(tokens_hp_azkaban)\n",
        "analytics_hp_goblet_fire = nltk.Text(tokens_hp_goblet_fire)\n",
        "analytics_hp_phoenix = nltk.Text(tokens_hp_phoenix)\n",
        "analytics_hp_prince = nltk.Text(tokens_hp_prince)\n",
        "analytics_hp_hallows = nltk.Text(tokens_hp_hallows)"
      ],
      "metadata": {
        "id": "c7I4fTgTo9Cr"
      },
      "execution_count": null,
      "outputs": []
    },
    {
      "cell_type": "markdown",
      "source": [
        "# Palavras similares"
      ],
      "metadata": {
        "id": "dKtRctPzvSoJ"
      }
    },
    {
      "cell_type": "code",
      "source": [
        "analytics_hp_philosopher_stone.similar('neville')"
      ],
      "metadata": {
        "colab": {
          "base_uri": "https://localhost:8080/"
        },
        "id": "K0YdVQ_WuHLb",
        "outputId": "06b4ca0b-e67a-4aff-b095-de002c3388c8"
      },
      "execution_count": null,
      "outputs": [
        {
          "output_type": "stream",
          "name": "stdout",
          "text": [
            "harry hagrid time good bye head back see struck suppose sit\n",
            "impatiently leave quietly broomsticks ron share seamus snape\n"
          ]
        }
      ]
    },
    {
      "cell_type": "code",
      "source": [
        "analytics_hp_chamber_secrets.similar('basilisk')"
      ],
      "metadata": {
        "colab": {
          "base_uri": "https://localhost:8080/"
        },
        "id": "GFlNsIhRucXx",
        "outputId": "0bbcc364-fa0c-49ad-f3b8-c1f73fcdab41"
      },
      "execution_count": null,
      "outputs": [
        {
          "output_type": "stream",
          "name": "stdout",
          "text": [
            "said snake serpent\n"
          ]
        }
      ]
    },
    {
      "cell_type": "code",
      "source": [
        "analytics_hp_azkaban.similar('lupin')"
      ],
      "metadata": {
        "colab": {
          "base_uri": "https://localhost:8080/"
        },
        "id": "PEg8i8cgTJh_",
        "outputId": "42173689-ca3a-4b57-d568-1399340c1c94"
      },
      "execution_count": null,
      "outputs": [
        {
          "output_type": "stream",
          "name": "stdout",
          "text": [
            "harry hermione ron trelawney mcgonagall dumbledore snape hagrid fudge\n",
            "witch well fred george quietly malfoy flitwick lavender listen come us\n"
          ]
        }
      ]
    },
    {
      "cell_type": "code",
      "source": [
        "analytics_hp_goblet_fire.similar('cedric')"
      ],
      "metadata": {
        "colab": {
          "base_uri": "https://localhost:8080/"
        },
        "id": "rMwCaTkDTUxZ",
        "outputId": "8950d989-2d45-43e6-e534-f296661edce9"
      },
      "execution_count": null,
      "outputs": [
        {
          "output_type": "stream",
          "name": "stdout",
          "text": [
            "harry ron hermione dumbledore said fred hagrid yeah bagman dobby see\n",
            "saw got looked know yes wand sirius bill krum\n"
          ]
        }
      ]
    },
    {
      "cell_type": "code",
      "source": [
        "analytics_hp_phoenix.similar('bellatrix')"
      ],
      "metadata": {
        "colab": {
          "base_uri": "https://localhost:8080/"
        },
        "id": "_8TKby15slSJ",
        "outputId": "be9bdac3-c0eb-446c-aa57-cd0eec0463bc"
      },
      "execution_count": null,
      "outputs": [
        {
          "output_type": "stream",
          "name": "stdout",
          "text": [
            "hermione harry ron dumbledore behind see know yes corner nothing lives\n",
            "good want owl sirius laughing yeah weak noticed er\n"
          ]
        }
      ]
    },
    {
      "cell_type": "code",
      "source": [
        "analytics_hp_prince.similar('snape')"
      ],
      "metadata": {
        "colab": {
          "base_uri": "https://localhost:8080/"
        },
        "id": "dKUB9qjGsohE",
        "outputId": "31f8a1b3-0704-4008-faaa-122bbc3fb527"
      },
      "execution_count": null,
      "outputs": [
        {
          "output_type": "stream",
          "name": "stdout",
          "text": [
            "harry dumbledore slughorn hermione ron scrimgeour said yes malfoy\n",
            "mcgonagall nothing voldemort tonks fred ginny lupin ogden thought\n",
            "looking made\n"
          ]
        }
      ]
    },
    {
      "cell_type": "code",
      "source": [
        "analytics_hp_hallows.similar('voldemort')"
      ],
      "metadata": {
        "colab": {
          "base_uri": "https://localhost:8080/"
        },
        "id": "uY4LzfajEzi4",
        "outputId": "58ceb2c2-91f2-4374-bf07-24d1d2052811"
      },
      "execution_count": null,
      "outputs": [
        {
          "output_type": "stream",
          "name": "stdout",
          "text": [
            "harry hermione said dumbledore ron bellatrix lupin wanted felt wand\n",
            "going think snake say knew doge familiar saw really quietly\n"
          ]
        }
      ]
    },
    {
      "cell_type": "markdown",
      "source": [
        "# Palavras dentro de diferentes contextos"
      ],
      "metadata": {
        "id": "trK2FNB5_dDp"
      }
    },
    {
      "cell_type": "code",
      "source": [
        "analytics_hp_philosopher_stone.concordance('hagrid')"
      ],
      "metadata": {
        "colab": {
          "base_uri": "https://localhost:8080/"
        },
        "id": "aQq8pXxu_qMl",
        "outputId": "3235f4fd-d7d8-4881-e8ed-861332484769"
      },
      "execution_count": null,
      "outputs": [
        {
          "output_type": "stream",
          "name": "stdout",
          "text": [
            "Displaying 25 of 370 matches:\n",
            "bledore though put back pocket said hagrid late suppose told way yes said prof\n",
            "ought might hiding harry underneath hagrid bringing think wise trust hagrid so\n",
            "th hagrid bringing think wise trust hagrid something important would trust hag\n",
            "rid something important would trust hagrid life said dumbledore saying heart r\n",
            "scular arms holding bundle blankets hagrid said dumbledore sounding relieved l\n",
            "ct map london underground well give hagrid better get dumbledore took harry ar\n",
            " could could say good bye sir asked hagrid bent great shaggy head harry gave m\n",
            "ust scratchy whiskery kiss suddenly hagrid let howl like wounded dog shhh hiss\n",
            "cgonagall wake muggles sorry sobbed hagrid taking large spotted handkerchief b\n",
            "r live muggles yes yes sad get grip hagrid found professor mcgonagall whispere\n",
            "fessor mcgonagall whispered patting hagrid gingerly arm dumbledore stepped low\n",
            "te three stood looked little bundle hagrid shoulders shook professor mcgonagal\n",
            "well go join celebrations yeah said hagrid muffled voice best get bike away ni\n",
            "wiping streaming eyes jacket sleeve hagrid swung onto motorcycle kicked engine\n",
            "ckled true introduced meself rubeus hagrid keeper keys grounds hogwarts held e\n",
            "gulp tea wiped mouth back hand call hagrid said everyone like told yeh keeper \n",
            " know hogwarts course er said harry hagrid looked shocked sorry harry said qui\n",
            "rry harry said quickly sorry barked hagrid turning stare dursleys shrank back \n",
            "der yer parents learned asked harry hagrid thundered wait jus one second leapt\n",
            "ad know things said know math stuff hagrid simply waved hand said world mean w\n",
            "world world yer parents world world hagrid looked explode dursley boomed uncle\n",
            "something sounded like mimblewimble hagrid stared wildly harry yeh must know y\n",
            "us mom dad famous yeh know yeh know hagrid ran fingers hair fixing harry bewil\n",
            " dursley would quailed furious look hagrid gave hagrid spoke every syllable tr\n",
            "ld quailed furious look hagrid gave hagrid spoke every syllable trembled rage \n"
          ]
        }
      ]
    },
    {
      "cell_type": "code",
      "source": [
        "analytics_hp_chamber_secrets.concordance('basilisk')"
      ],
      "metadata": {
        "colab": {
          "base_uri": "https://localhost:8080/"
        },
        "id": "jOnRpXhG_x6w",
        "outputId": "6ba38293-5bcc-4ead-e8c5-e9137c9899ad"
      },
      "execution_count": null,
      "outputs": [
        {
          "output_type": "stream",
          "name": "stdout",
          "text": [
            "Displaying 25 of 31 matches:\n",
            "ters roam land none curious deadly basilisk known also king serpents snake may\n",
            "ndrous aside deadly venomous fangs basilisk murderous stare fixed beam eye sha\n",
            " suffer instant death spiders flee basilisk mortal enemy basilisk flees crowin\n",
            "spiders flee basilisk mortal enemy basilisk flees crowing rooster fatal beneat\n",
            "on breathed answer monster chamber basilisk giant serpent hearing voice place \n",
            "seltongue harry looked beds around basilisk kills people looking one died one \n",
            "oked straight eye colin saw camera basilisk burned film inside colin got petri\n",
            " petrified justin justin must seen basilisk nearly headless nick nick got full\n",
            "ror next hermione realized monster basilisk bet anything warned first person m\n",
            "e chamber opened spiders flee fits basilisk getting around place said ron gian\n",
            "ool heir slytherin one controlling basilisk going said ron whose eyes flashing\n",
            "ng try get chamber tell think tell basilisk harry think anything else wanted s\n",
            "tood listening chill silence could basilisk lurking shadowy corner behind pill\n",
            "ry said raising ginny head got get basilisk know could along moment please hel\n",
            "s sagging ginny dead weight got go basilisk comes come called said riddle calm\n",
            "th heard riddle hissing voice kill basilisk moving toward harry could hear hea\n",
            "d snake fawkes soaring around head basilisk snapping furiously fangs long thin\n",
            "rry ducked something soft hit face basilisk swept sorting hat harry arms harry\n",
            "ed onto head threw flat onto floor basilisk tail swung help help harry thought\n",
            "ehind sniff smell harry feet ready basilisk head falling body coiling around h\n",
            "shed harry side raised sword hands basilisk lunged time aim true harry threw w\n",
            "nking deeper deeper arm splintered basilisk keeled sideways fell twitching flo\n",
            "ng though meant along harry seized basilisk fang floor next plunged straight h\n",
            "y drip drip ink still oozing diary basilisk venom burned sizzling hole right s\n",
            "ug retrieved glittering sword roof basilisk mouth came faint moan end chamber \n"
          ]
        }
      ]
    },
    {
      "cell_type": "code",
      "source": [
        "analytics_hp_azkaban.concordance('azkaban')"
      ],
      "metadata": {
        "colab": {
          "base_uri": "https://localhost:8080/"
        },
        "id": "olLkfYCSTl1r",
        "outputId": "3d7f6563-5d0b-4352-f761-712ae595926b"
      },
      "execution_count": null,
      "outputs": [
        {
          "output_type": "stream",
          "name": "stdout",
          "text": [
            "Displaying 25 of 46 matches:\n",
            "ossibly infamous prisoner ever held azkaban fortress still eluding capture mini\n",
            " ead cos mad inee ern inee mad went azkaban said ern slow voice blow meself set\n",
            "ure black gaunt face never breakout azkaban ern beats ow frightenin eh mind fan\n",
            "ow frightenin eh mind fancy chances azkaban guards eh ern ernie suddenly shiver\n",
            "ered talk summat else stan good lad azkaban guards give collywobbles stan put p\n",
            "nflating aunt marge bad enough land azkaban harry know anything wizard prison t\n",
            "et impatiently accident send people azkaban blowing aunts tally harry past deal\n",
            "cloak oh heard well yet matter time azkaban guards never yet failed angrier eve\n",
            " personally let children alone back azkaban harry homework blankets flashlight \n",
            "ing caught thirteen year old wizard azkaban guards get back mark words moment m\n",
            "lack mad maybe clever enough escape azkaban supposed impossible month one seen \n",
            "rry perfectly safe hogwarts thought azkaban perfectly safe black break azkaban \n",
            " azkaban perfectly safe black break azkaban break hogwarts one really sure blac\n",
            " fudge wanted kept quiet fudge went azkaban night black escaped guards told fud\n",
            "rry stopped know twelve years alone azkaban brood silence harry leaned still cl\n",
            "uppose knows course knows ask minds azkaban guards stationing around entrances \n",
            "y happy catch black dumbledore fond azkaban guards said mr weasley heavily come\n",
            "ort right hand man would frightened azkaban guards everyone kept talking seemed\n",
            "much frightened black one knows got azkaban said ron uncomfortably one ever don\n",
            "ocolate everyone else one dementors azkaban everyone stared professor lupin cru\n",
            "ol presently playing host dementors azkaban ministry magic business paused harr\n",
            " harry said george bracingly dad go azkaban one time remember fred said worst p\n",
            "nt emotions running high idea feast azkaban must terrible harry muttered lupin \n",
            "ass think comfort poor mother black azkaban ever since madam rosmerta let long \n",
            "tless yet met black last inspection azkaban know prisoners sit muttering dark s\n"
          ]
        }
      ]
    },
    {
      "cell_type": "code",
      "source": [
        "analytics_hp_goblet_fire.concordance('cedric')"
      ],
      "metadata": {
        "colab": {
          "base_uri": "https://localhost:8080/"
        },
        "id": "5JMvUG3STt0L",
        "outputId": "4a9b37ef-e163-470f-ff8a-82c53dc6ec03"
      },
      "execution_count": null,
      "outputs": [
        {
          "output_type": "stream",
          "name": "stdout",
          "text": [
            "Displaying 25 of 268 matches:\n",
            "ol magical creatures think know son cedric cedric diggory extremely handsome b\n",
            "cal creatures think know son cedric cedric diggory extremely handsome boy arou\n",
            "use quidditch team hogwarts hi said cedric looking around everybody said hi ba\n",
            " merely nodded never quite forgiven cedric beating team gryffindor first quidd\n",
            "atch previous year long walk arthur cedric father asked bad said mr weasley li\n",
            "emained silent fred george scowling cedric looked slightly embarrassed harry f\n",
            " harry looked mr weasley mr diggory cedric still standing though looking winds\n",
            "rd scrubby brown beard amos diggory cedric father stunners went right trees go\n",
            "emerging crowd eyes gleaming wonder cedric knows think go tell cedric said ron\n",
            "g wonder cedric knows think go tell cedric said ron blankly ernie hurried digg\n",
            " parchment hogwarts champion called cedric diggory said ron loudly nobody hear\n",
            "puff jumped feet screaming stamping cedric made way past grinning broadly head\n",
            "hind teachers table indeed applause cedric went long time dumbledore could mak\n",
            " started whispering ear viktor krum cedric diggory fleur delacour grouped arou\n",
            "ning mantelpiece slightly apart two cedric standing hands behind back staring \n",
            " surly face darkened surveyed harry cedric looked nonplussed looked bagman har\n",
            " thick eyebrows contracted slightly cedric still looking politely bewildered f\n",
            "ed room seems however choice accept cedric harry chosen compete tournament the\n",
            "ask designed test daring told harry cedric fleur viktor going telling courage \n",
            "ed krum exited though silence harry cedric suggest go bed said dumbledore smil\n",
            "great deal mess noise harry glanced cedric nodded left together great hall des\n",
            "pkins eerie flickering quality said cedric slight smile playing pose said harr\n",
            "ay though brain ransacked tell said cedric reached entrance hall lit torches a\n",
            "ring put telling truth ah okay said cedric harry could tell cedric believe wel\n",
            "h okay said cedric harry could tell cedric believe well see instead going marb\n"
          ]
        }
      ]
    },
    {
      "cell_type": "code",
      "source": [
        "analytics_hp_phoenix.concordance('bellatrix')"
      ],
      "metadata": {
        "colab": {
          "base_uri": "https://localhost:8080/"
        },
        "id": "ed4yzvNCtaxd",
        "outputId": "a2948902-b130-4289-d1d0-bcc25255d30c"
      },
      "execution_count": null,
      "outputs": [
        {
          "output_type": "stream",
          "name": "stdout",
          "text": [
            "Displaying 25 of 53 matches:\n",
            "er small round burn mark two names bellatrix narcissa andromeda sisters still m\n",
            "y looking name left andromeda burn bellatrix black connected double line rodolp\n",
            "ius shortly harry looked curiously bellatrix husband rodolphus came barty crouc\n",
            "her rabastan harry remembered seen bellatrix lestrange inside dumbledore pensie\n",
            "rial witnessed dumbledore pensieve bellatrix lestrange looks kreacher favorite \n",
            "y dumbledore told promised mention bellatrix lestrange got sent azkaban using c\n",
            "s curse neville parents lost minds bellatrix lestrange whispered hermione horri\n",
            "thing perhaps azkaban taken beauty bellatrix lestrange convicted torture perman\n",
            "dline pictures harry concentrating bellatrix yet read mass breakout azkaban min\n",
            "y individuals include black cousin bellatrix lestrange rallied around black lea\n",
            "d kept quiet said anything subject bellatrix fellow torturers escape fact barel\n",
            " yeah said harry tearing eyes away bellatrix lestrange face glance high street \n",
            " crumple horned snorkacks breakout bellatrix lestrange fellow death eaters give\n",
            " thinks fighting us oh know potter bellatrix said malfoy softly great weakness \n",
            "llows pulled hood azkaban hollowed bellatrix lestrange face making gaunt skull \n",
            "ld chest smash want attack us told bellatrix think boss pleased come back witho\n",
            " mind blank kind prophecy repeated bellatrix grin fading face jest harry potter\n",
            "w hisses dare speak name whispered bellatrix yeah said harry maintaining tight \n",
            " got problem saying vol shut mouth bellatrix shrieked dare speak name unworthy \n",
            " stupef ivo jet red light shot end bellatrix lestrange wand malfoy deflected sp\n",
            "ragments saying could heard malfoy bellatrix shouts solstice come new said figu\n",
            "need prophecy dared dares shrieked bellatrix incoherently stands filthy half bl\n",
            "ade come get come get get shrieked bellatrix cackle mad laughter dark lord walk\n",
            "got prophecy kill others necessary bellatrix rodolphus take left crabbe rabasta\n",
            "n three death eaters sped hall led bellatrix lestrange shrieked stunning spells\n"
          ]
        }
      ]
    },
    {
      "cell_type": "code",
      "source": [
        "analytics_hp_prince.concordance('unbreakable')"
      ],
      "metadata": {
        "colab": {
          "base_uri": "https://localhost:8080/"
        },
        "id": "tuaO1O-QtaoD",
        "outputId": "061f9ad0-1fd4-411f-efba-d2638d9d618e"
      },
      "execution_count": null,
      "outputs": [
        {
          "output_type": "stream",
          "name": "stdout",
          "text": [
            "Displaying 8 of 8 matches:\n",
            "d lips protect severus swear make unbreakable vow unbreakable vow snape express\n",
            "everus swear make unbreakable vow unbreakable vow snape expression blank unread\n",
            "and certainly narcissa shall make unbreakable vow said quietly perhaps sister c\n",
            "d harry thought heard sob slammed unbreakable vow snow swirling icy windows chr\n",
            "p swore mother would protect made unbreakable vow draco looks like break need p\n",
            "omised malfoy mother protect made unbreakable oath something unbreakable vow sa\n",
            "t made unbreakable oath something unbreakable vow said ron looking stunned nah \n",
            "s sure said harry mean well break unbreakable vow worked much funnily enough ha\n"
          ]
        }
      ]
    },
    {
      "cell_type": "code",
      "source": [
        "analytics_hp_hallows.concordance('voldemort')"
      ],
      "metadata": {
        "colab": {
          "base_uri": "https://localhost:8080/"
        },
        "id": "OXfN2BO4FeOQ",
        "outputId": "b5e95b9b-bad0-4f09-bb84-9e52b72cb539"
      },
      "execution_count": null,
      "outputs": [
        {
          "output_type": "stream",
          "name": "stdout",
          "text": [
            "Displaying 25 of 446 matches:\n",
            "emed emit pearly glow severus said voldemort indicating seat immediate right ya\n",
            "s eyes around table followed snape voldemort spoke first lord order phoenix int\n",
            "fened others fidgeted gazing snape voldemort saturday nightfall repeated voldem\n",
            "demort saturday nightfall repeated voldemort red eyes fastened upon snape black\n",
            "e snape however looked calmly back voldemort face moment two voldemort lipless \n",
            "mly back voldemort face moment two voldemort lipless mouth curved something lik\n",
            "ley leaned forward look long table voldemort snape faces turned lord heard diff\n",
            "rd heard differently yaxley waited voldemort speak went dawlish auror let slip \n",
            "e wheezy giggle echoed along table voldemort laugh gaze wandered upward body re\n",
            "ire party aurors used transfer boy voldemort held large white hand yaxley subsi\n",
            "xley subsided watching resentfully voldemort turned back snape going hide boy n\n",
            "nchantments break rest well yaxley voldemort called table firelight glinting st\n",
            "isted face clapped back start said voldemort thicknesse one man scrimgeour must\n",
            "sse discovered converted rest said voldemort rate remains unlikely ministry min\n",
            "trust everything place better said voldemort move open easier take far voldemor\n",
            "oldemort move open easier take far voldemort looked slowly revolving body went \n",
            "umphs company around table watched voldemort apprehensively expression afraid m\n",
            "d harry potter continued existence voldemort however seemed speaking still addr\n",
            "nd seemed issue feet wormtail said voldemort change quiet thoughtful tone witho\n",
            "ious gleam silver saying continued voldemort looking tense faces followers unde\n",
            "ed borrow one arms volunteers said voldemort let see lucius see reason wand any\n",
            "d robes withdrew wand passed along voldemort held front red eyes examining clos\n",
            "ragon dragon heartstring good said voldemort drew wand compared lengths lucius \n",
            "ion second seemed expected receive voldemort wand exchange gesture missed volde\n",
            "emort wand exchange gesture missed voldemort whose eyes widened maliciously giv\n"
          ]
        }
      ]
    },
    {
      "cell_type": "markdown",
      "source": [
        "# Bigramas de texto"
      ],
      "metadata": {
        "id": "iebiVRt0vVoF"
      }
    },
    {
      "cell_type": "code",
      "source": [
        "analytics_hp_philosopher_stone.collocations()"
      ],
      "metadata": {
        "colab": {
          "base_uri": "https://localhost:8080/"
        },
        "id": "r17TVAikvILf",
        "outputId": "ebdcbafa-8db5-4202-a104-55f464cbce37"
      },
      "execution_count": null,
      "outputs": [
        {
          "output_type": "stream",
          "name": "stdout",
          "text": [
            "uncle vernon; professor mcgonagall; aunt petunia; said ron; said\n",
            "hagrid; said harry; crabbe goyle; privet drive; common room; fred\n",
            "george; madam pomfrey; mrs dursley; invisibility cloak; mrs norris;\n",
            "nimbus two; madam hooch; nicolas flamel; leaky cauldron; first years;\n",
            "sorcerer stone\n"
          ]
        }
      ]
    },
    {
      "cell_type": "code",
      "source": [
        "analytics_hp_chamber_secrets.collocations()"
      ],
      "metadata": {
        "colab": {
          "base_uri": "https://localhost:8080/"
        },
        "id": "oqvmiK7cvZyw",
        "outputId": "8144aac0-3ef6-43b8-9223-66659562cbde"
      },
      "execution_count": null,
      "outputs": [
        {
          "output_type": "stream",
          "name": "stdout",
          "text": [
            "professor mcgonagall; said ron; uncle vernon; mrs weasley; chamber\n",
            "secrets; fred george; headless nick; said harry; madam pomfrey; nearly\n",
            "headless; harry potter; gilderoy lockhart; moaning myrtle; aunt\n",
            "petunia; hospital wing; mrs norris; common room; sorting hat;\n",
            "professor sprout; crabbe goyle\n"
          ]
        }
      ]
    },
    {
      "cell_type": "code",
      "source": [
        "analytics_hp_azkaban.collocations()"
      ],
      "metadata": {
        "colab": {
          "base_uri": "https://localhost:8080/"
        },
        "id": "8J22Rsa0T2Jr",
        "outputId": "ed352413-299f-459d-94a6-8d6a2b7d3034"
      },
      "execution_count": null,
      "outputs": [
        {
          "output_type": "stream",
          "name": "stdout",
          "text": [
            "uncle vernon; professor mcgonagall; professor trelawney; professor\n",
            "lupin; aunt marge; said ron; madam pomfrey; common room; said harry;\n",
            "crabbe goyle; fred george; ron hermione; expecto patronum; sirius\n",
            "black; hospital wing; said hermione; mrs weasley; invisibility cloak;\n",
            "dark arts; aunt petunia\n"
          ]
        }
      ]
    },
    {
      "cell_type": "code",
      "source": [
        "analytics_hp_goblet_fire.collocations()"
      ],
      "metadata": {
        "colab": {
          "base_uri": "https://localhost:8080/"
        },
        "id": "ENa2JO08T_J8",
        "outputId": "d84e04ec-7e13-42cf-cb75-a112daed4886"
      },
      "execution_count": null,
      "outputs": [
        {
          "output_type": "stream",
          "name": "stdout",
          "text": [
            "madame maxime; mrs weasley; uncle vernon; rita skeeter; said ron;\n",
            "professor mcgonagall; death eaters; said harry; fred george; world\n",
            "cup; aunt petunia; said hermione; ron hermione; ludo bagman; daily\n",
            "prophet; great hall; entrance hall; common room; crabbe goyle;\n",
            "invisibility cloak\n"
          ]
        }
      ]
    },
    {
      "cell_type": "code",
      "source": [
        "analytics_hp_phoenix.collocations()"
      ],
      "metadata": {
        "colab": {
          "base_uri": "https://localhost:8080/"
        },
        "id": "SW95r__nFk86",
        "outputId": "db30cd20-8fba-41bd-e62a-caa8b9a8aabf"
      },
      "execution_count": null,
      "outputs": [
        {
          "output_type": "stream",
          "name": "stdout",
          "text": [
            "mrs weasley; professor mcgonagall; said harry; uncle vernon; said\n",
            "hermione; professor umbridge; fred george; death eaters; said ron;\n",
            "aunt petunia; grubbly plank; department mysteries; daily prophet; dark\n",
            "arts; ministry magic; common room; death eater; professor trelawney;\n",
            "defense dark; ron hermione\n"
          ]
        }
      ]
    },
    {
      "cell_type": "code",
      "source": [
        "analytics_hp_prince.collocations()"
      ],
      "metadata": {
        "colab": {
          "base_uri": "https://localhost:8080/"
        },
        "id": "L5Lohr4Ju3rU",
        "outputId": "82fbf0ba-3026-4a60-a2a7-db02e35c412b"
      },
      "execution_count": null,
      "outputs": [
        {
          "output_type": "stream",
          "name": "stdout",
          "text": [
            "mrs weasley; prime minister; said harry; said dumbledore; death\n",
            "eaters; professor mcgonagall; said hermione; dark lord; death eater;\n",
            "common room; said ron; invisibility cloak; fred george; dark arts;\n",
            "felix felicis; madam pomfrey; ron hermione; professor trelawney; room\n",
            "requirement; lord voldemort\n"
          ]
        }
      ]
    },
    {
      "cell_type": "code",
      "source": [
        "analytics_hp_hallows.collocations()"
      ],
      "metadata": {
        "colab": {
          "base_uri": "https://localhost:8080/"
        },
        "id": "dE-FPjmuu7Ql",
        "outputId": "a33862c4-c12e-4345-83ab-c77a65686ae6"
      },
      "execution_count": null,
      "outputs": [
        {
          "output_type": "stream",
          "name": "stdout",
          "text": [
            "death eaters; mrs weasley; said harry; godric hollow; invisibility\n",
            "cloak; said ron; death eater; ron hermione; said hermione; professor\n",
            "mcgonagall; mad eye; phineas nigellus; elder wand; deathly hallows;\n",
            "uncle vernon; dark lord; auntie muriel; fred george; beaded bag; bill\n",
            "fleur\n"
          ]
        }
      ]
    },
    {
      "cell_type": "markdown",
      "source": [
        "# Categorias - Filtro por gêneros"
      ],
      "metadata": {
        "id": "c-hgLbeu8NKU"
      }
    },
    {
      "cell_type": "code",
      "source": [
        "print(nltk.corpus.brown.categories())"
      ],
      "metadata": {
        "colab": {
          "base_uri": "https://localhost:8080/"
        },
        "id": "aYuJJcRO8TYx",
        "outputId": "5de4c7cb-11db-42c6-bb5d-365a37839eb7"
      },
      "execution_count": 3,
      "outputs": [
        {
          "output_type": "stream",
          "name": "stdout",
          "text": [
            "['adventure', 'belles_lettres', 'editorial', 'fiction', 'government', 'hobbies', 'humor', 'learned', 'lore', 'mystery', 'news', 'religion', 'reviews', 'romance', 'science_fiction']\n"
          ]
        }
      ]
    },
    {
      "cell_type": "code",
      "source": [
        "words_mystery = nltk.corpus.brown.words(categories='mystery')\n",
        "\n",
        "print(len(words_mystery))\n",
        "\n",
        "print(len(nltk.corpus.brown.words(categories='fiction')))\n",
        "\n",
        "print(len(nltk.corpus.brown.words()))"
      ],
      "metadata": {
        "colab": {
          "base_uri": "https://localhost:8080/"
        },
        "id": "Kymv9ykQ98tC",
        "outputId": "de03993e-88e7-4649-f84e-7ce9f7ee9e7c"
      },
      "execution_count": 10,
      "outputs": [
        {
          "output_type": "stream",
          "name": "stdout",
          "text": [
            "57169\n",
            "68488\n",
            "1161192\n"
          ]
        }
      ]
    },
    {
      "cell_type": "markdown",
      "source": [
        "# Teste de leitura de informações coletadas em um site"
      ],
      "metadata": {
        "id": "68nM0NEQ87di"
      }
    },
    {
      "cell_type": "code",
      "source": [
        "text_web = urllib.request.urlopen(\"https://www.gutenberg.org/files/68611/68611-0.txt\").read()\n",
        "\n",
        "book_gutemberg = processing_text(str(text_web, 'utf8'), english_stopwords)\n",
        "\n",
        "print(book_gutemberg)"
      ],
      "metadata": {
        "id": "5hDzxLS7Bi87"
      },
      "execution_count": null,
      "outputs": []
    }
  ]
}