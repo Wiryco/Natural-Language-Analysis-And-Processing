{
  "nbformat": 4,
  "nbformat_minor": 0,
  "metadata": {
    "colab": {
      "name": "natural_language_analysis_and_processin.ipynb",
      "provenance": [],
      "collapsed_sections": [],
      "authorship_tag": "ABX9TyMNh+qoHHq1bWqA1363Qpl3",
      "include_colab_link": true
    },
    "kernelspec": {
      "name": "python3",
      "display_name": "Python 3"
    },
    "language_info": {
      "name": "python"
    }
  },
  "cells": [
    {
      "cell_type": "markdown",
      "metadata": {
        "id": "view-in-github",
        "colab_type": "text"
      },
      "source": [
        "<a href=\"https://colab.research.google.com/github/viniciusanl/Natural-Language-Analysis-And-Processing/blob/main/natural_language_analysis_and_processin.ipynb\" target=\"_parent\"><img src=\"https://colab.research.google.com/assets/colab-badge.svg\" alt=\"Open In Colab\"/></a>"
      ]
    },
    {
      "cell_type": "markdown",
      "source": [
        "# Motivação"
      ],
      "metadata": {
        "id": "c5RJByb39O_0"
      }
    },
    {
      "cell_type": "markdown",
      "source": [
        "O objetivo principal deste trabalho é estudar, entender e implementar as principais técnicas de análise e processamento de linguagem natural. Para que esse trabalho se torne possível, será necessário utilizar a biblioteca NLTK (Natural Language Toolkit) que possui ferramentas para realizar processamento simbólico e estatístico de linguagem natural.\n",
        "\n",
        "\n",
        "* [Dcumentation NLTK - Natural Language Toolkit](https://www.nltk.org)\n",
        "* [Natural Language Processing with Python Analyzing Text with the Natural Language Toolkit](https://www.nltk.org/book_1ed/)\n",
        "* [Processing Raw Text](https://www.nltk.org/book_1ed/ch03.html)"
      ],
      "metadata": {
        "id": "0g14nqo514cw"
      }
    },
    {
      "cell_type": "markdown",
      "source": [
        "# **Importar bibliotecas necessárias**"
      ],
      "metadata": {
        "id": "i50pq_qLpZVa"
      }
    },
    {
      "cell_type": "code",
      "execution_count": 1,
      "metadata": {
        "id": "CPekYEM7_-Tv"
      },
      "outputs": [],
      "source": [
        "import nltk, re, pprint, string, urllib.request"
      ]
    },
    {
      "cell_type": "markdown",
      "source": [
        "# Download de todos os componentes necessários da biblioteca NLTK"
      ],
      "metadata": {
        "id": "xJE-Br5speDc"
      }
    },
    {
      "cell_type": "code",
      "source": [
        "nltk.download('all')\n",
        "nltk.download('stopwords')"
      ],
      "metadata": {
        "id": "T7FxOx6nCiXp",
        "colab": {
          "base_uri": "https://localhost:8080/"
        },
        "outputId": "99272b21-b57e-45e2-ec50-1c3dc35545b5"
      },
      "execution_count": 2,
      "outputs": [
        {
          "output_type": "stream",
          "name": "stderr",
          "text": [
            "[nltk_data] Downloading collection 'all'\n",
            "[nltk_data]    | \n",
            "[nltk_data]    | Downloading package abc to /root/nltk_data...\n",
            "[nltk_data]    |   Unzipping corpora/abc.zip.\n",
            "[nltk_data]    | Downloading package alpino to /root/nltk_data...\n",
            "[nltk_data]    |   Unzipping corpora/alpino.zip.\n",
            "[nltk_data]    | Downloading package averaged_perceptron_tagger to\n",
            "[nltk_data]    |     /root/nltk_data...\n",
            "[nltk_data]    |   Unzipping taggers/averaged_perceptron_tagger.zip.\n",
            "[nltk_data]    | Downloading package averaged_perceptron_tagger_ru to\n",
            "[nltk_data]    |     /root/nltk_data...\n",
            "[nltk_data]    |   Unzipping\n",
            "[nltk_data]    |       taggers/averaged_perceptron_tagger_ru.zip.\n",
            "[nltk_data]    | Downloading package basque_grammars to\n",
            "[nltk_data]    |     /root/nltk_data...\n",
            "[nltk_data]    |   Unzipping grammars/basque_grammars.zip.\n",
            "[nltk_data]    | Downloading package biocreative_ppi to\n",
            "[nltk_data]    |     /root/nltk_data...\n",
            "[nltk_data]    |   Unzipping corpora/biocreative_ppi.zip.\n",
            "[nltk_data]    | Downloading package bllip_wsj_no_aux to\n",
            "[nltk_data]    |     /root/nltk_data...\n",
            "[nltk_data]    |   Unzipping models/bllip_wsj_no_aux.zip.\n",
            "[nltk_data]    | Downloading package book_grammars to\n",
            "[nltk_data]    |     /root/nltk_data...\n",
            "[nltk_data]    |   Unzipping grammars/book_grammars.zip.\n",
            "[nltk_data]    | Downloading package brown to /root/nltk_data...\n",
            "[nltk_data]    |   Unzipping corpora/brown.zip.\n",
            "[nltk_data]    | Downloading package brown_tei to /root/nltk_data...\n",
            "[nltk_data]    |   Unzipping corpora/brown_tei.zip.\n",
            "[nltk_data]    | Downloading package cess_cat to /root/nltk_data...\n",
            "[nltk_data]    |   Unzipping corpora/cess_cat.zip.\n",
            "[nltk_data]    | Downloading package cess_esp to /root/nltk_data...\n",
            "[nltk_data]    |   Unzipping corpora/cess_esp.zip.\n",
            "[nltk_data]    | Downloading package chat80 to /root/nltk_data...\n",
            "[nltk_data]    |   Unzipping corpora/chat80.zip.\n",
            "[nltk_data]    | Downloading package city_database to\n",
            "[nltk_data]    |     /root/nltk_data...\n",
            "[nltk_data]    |   Unzipping corpora/city_database.zip.\n",
            "[nltk_data]    | Downloading package cmudict to /root/nltk_data...\n",
            "[nltk_data]    |   Unzipping corpora/cmudict.zip.\n",
            "[nltk_data]    | Downloading package comparative_sentences to\n",
            "[nltk_data]    |     /root/nltk_data...\n",
            "[nltk_data]    |   Unzipping corpora/comparative_sentences.zip.\n",
            "[nltk_data]    | Downloading package comtrans to /root/nltk_data...\n",
            "[nltk_data]    | Downloading package conll2000 to /root/nltk_data...\n",
            "[nltk_data]    |   Unzipping corpora/conll2000.zip.\n",
            "[nltk_data]    | Downloading package conll2002 to /root/nltk_data...\n",
            "[nltk_data]    |   Unzipping corpora/conll2002.zip.\n",
            "[nltk_data]    | Downloading package conll2007 to /root/nltk_data...\n",
            "[nltk_data]    | Downloading package crubadan to /root/nltk_data...\n",
            "[nltk_data]    |   Unzipping corpora/crubadan.zip.\n",
            "[nltk_data]    | Downloading package dependency_treebank to\n",
            "[nltk_data]    |     /root/nltk_data...\n",
            "[nltk_data]    |   Unzipping corpora/dependency_treebank.zip.\n",
            "[nltk_data]    | Downloading package dolch to /root/nltk_data...\n",
            "[nltk_data]    |   Unzipping corpora/dolch.zip.\n",
            "[nltk_data]    | Downloading package europarl_raw to\n",
            "[nltk_data]    |     /root/nltk_data...\n",
            "[nltk_data]    |   Unzipping corpora/europarl_raw.zip.\n",
            "[nltk_data]    | Downloading package extended_omw to\n",
            "[nltk_data]    |     /root/nltk_data...\n",
            "[nltk_data]    | Downloading package floresta to /root/nltk_data...\n",
            "[nltk_data]    |   Unzipping corpora/floresta.zip.\n",
            "[nltk_data]    | Downloading package framenet_v15 to\n",
            "[nltk_data]    |     /root/nltk_data...\n",
            "[nltk_data]    |   Unzipping corpora/framenet_v15.zip.\n",
            "[nltk_data]    | Downloading package framenet_v17 to\n",
            "[nltk_data]    |     /root/nltk_data...\n",
            "[nltk_data]    |   Unzipping corpora/framenet_v17.zip.\n",
            "[nltk_data]    | Downloading package gazetteers to /root/nltk_data...\n",
            "[nltk_data]    |   Unzipping corpora/gazetteers.zip.\n",
            "[nltk_data]    | Downloading package genesis to /root/nltk_data...\n",
            "[nltk_data]    |   Unzipping corpora/genesis.zip.\n",
            "[nltk_data]    | Downloading package gutenberg to /root/nltk_data...\n",
            "[nltk_data]    |   Unzipping corpora/gutenberg.zip.\n",
            "[nltk_data]    | Downloading package ieer to /root/nltk_data...\n",
            "[nltk_data]    |   Unzipping corpora/ieer.zip.\n",
            "[nltk_data]    | Downloading package inaugural to /root/nltk_data...\n",
            "[nltk_data]    |   Unzipping corpora/inaugural.zip.\n",
            "[nltk_data]    | Downloading package indian to /root/nltk_data...\n",
            "[nltk_data]    |   Unzipping corpora/indian.zip.\n",
            "[nltk_data]    | Downloading package jeita to /root/nltk_data...\n",
            "[nltk_data]    | Downloading package kimmo to /root/nltk_data...\n",
            "[nltk_data]    |   Unzipping corpora/kimmo.zip.\n",
            "[nltk_data]    | Downloading package knbc to /root/nltk_data...\n",
            "[nltk_data]    | Downloading package large_grammars to\n",
            "[nltk_data]    |     /root/nltk_data...\n",
            "[nltk_data]    |   Unzipping grammars/large_grammars.zip.\n",
            "[nltk_data]    | Downloading package lin_thesaurus to\n",
            "[nltk_data]    |     /root/nltk_data...\n",
            "[nltk_data]    |   Unzipping corpora/lin_thesaurus.zip.\n",
            "[nltk_data]    | Downloading package mac_morpho to /root/nltk_data...\n",
            "[nltk_data]    |   Unzipping corpora/mac_morpho.zip.\n",
            "[nltk_data]    | Downloading package machado to /root/nltk_data...\n",
            "[nltk_data]    | Downloading package masc_tagged to /root/nltk_data...\n",
            "[nltk_data]    | Downloading package maxent_ne_chunker to\n",
            "[nltk_data]    |     /root/nltk_data...\n",
            "[nltk_data]    |   Unzipping chunkers/maxent_ne_chunker.zip.\n",
            "[nltk_data]    | Downloading package maxent_treebank_pos_tagger to\n",
            "[nltk_data]    |     /root/nltk_data...\n",
            "[nltk_data]    |   Unzipping taggers/maxent_treebank_pos_tagger.zip.\n",
            "[nltk_data]    | Downloading package moses_sample to\n",
            "[nltk_data]    |     /root/nltk_data...\n",
            "[nltk_data]    |   Unzipping models/moses_sample.zip.\n",
            "[nltk_data]    | Downloading package movie_reviews to\n",
            "[nltk_data]    |     /root/nltk_data...\n",
            "[nltk_data]    |   Unzipping corpora/movie_reviews.zip.\n",
            "[nltk_data]    | Downloading package mte_teip5 to /root/nltk_data...\n",
            "[nltk_data]    |   Unzipping corpora/mte_teip5.zip.\n",
            "[nltk_data]    | Downloading package mwa_ppdb to /root/nltk_data...\n",
            "[nltk_data]    |   Unzipping misc/mwa_ppdb.zip.\n",
            "[nltk_data]    | Downloading package names to /root/nltk_data...\n",
            "[nltk_data]    |   Unzipping corpora/names.zip.\n",
            "[nltk_data]    | Downloading package nombank.1.0 to /root/nltk_data...\n",
            "[nltk_data]    | Downloading package nonbreaking_prefixes to\n",
            "[nltk_data]    |     /root/nltk_data...\n",
            "[nltk_data]    |   Unzipping corpora/nonbreaking_prefixes.zip.\n",
            "[nltk_data]    | Downloading package nps_chat to /root/nltk_data...\n",
            "[nltk_data]    |   Unzipping corpora/nps_chat.zip.\n",
            "[nltk_data]    | Downloading package omw to /root/nltk_data...\n",
            "[nltk_data]    | Downloading package omw-1.4 to /root/nltk_data...\n",
            "[nltk_data]    | Downloading package opinion_lexicon to\n",
            "[nltk_data]    |     /root/nltk_data...\n",
            "[nltk_data]    |   Unzipping corpora/opinion_lexicon.zip.\n",
            "[nltk_data]    | Downloading package panlex_swadesh to\n",
            "[nltk_data]    |     /root/nltk_data...\n",
            "[nltk_data]    | Downloading package paradigms to /root/nltk_data...\n",
            "[nltk_data]    |   Unzipping corpora/paradigms.zip.\n",
            "[nltk_data]    | Downloading package pe08 to /root/nltk_data...\n",
            "[nltk_data]    |   Unzipping corpora/pe08.zip.\n",
            "[nltk_data]    | Downloading package perluniprops to\n",
            "[nltk_data]    |     /root/nltk_data...\n",
            "[nltk_data]    |   Unzipping misc/perluniprops.zip.\n",
            "[nltk_data]    | Downloading package pil to /root/nltk_data...\n",
            "[nltk_data]    |   Unzipping corpora/pil.zip.\n",
            "[nltk_data]    | Downloading package pl196x to /root/nltk_data...\n",
            "[nltk_data]    |   Unzipping corpora/pl196x.zip.\n",
            "[nltk_data]    | Downloading package porter_test to /root/nltk_data...\n",
            "[nltk_data]    |   Unzipping stemmers/porter_test.zip.\n",
            "[nltk_data]    | Downloading package ppattach to /root/nltk_data...\n",
            "[nltk_data]    |   Unzipping corpora/ppattach.zip.\n",
            "[nltk_data]    | Downloading package problem_reports to\n",
            "[nltk_data]    |     /root/nltk_data...\n",
            "[nltk_data]    |   Unzipping corpora/problem_reports.zip.\n",
            "[nltk_data]    | Downloading package product_reviews_1 to\n",
            "[nltk_data]    |     /root/nltk_data...\n",
            "[nltk_data]    |   Unzipping corpora/product_reviews_1.zip.\n",
            "[nltk_data]    | Downloading package product_reviews_2 to\n",
            "[nltk_data]    |     /root/nltk_data...\n",
            "[nltk_data]    |   Unzipping corpora/product_reviews_2.zip.\n",
            "[nltk_data]    | Downloading package propbank to /root/nltk_data...\n",
            "[nltk_data]    | Downloading package pros_cons to /root/nltk_data...\n",
            "[nltk_data]    |   Unzipping corpora/pros_cons.zip.\n",
            "[nltk_data]    | Downloading package ptb to /root/nltk_data...\n",
            "[nltk_data]    |   Unzipping corpora/ptb.zip.\n",
            "[nltk_data]    | Downloading package punkt to /root/nltk_data...\n",
            "[nltk_data]    |   Unzipping tokenizers/punkt.zip.\n",
            "[nltk_data]    | Downloading package qc to /root/nltk_data...\n",
            "[nltk_data]    |   Unzipping corpora/qc.zip.\n",
            "[nltk_data]    | Downloading package reuters to /root/nltk_data...\n",
            "[nltk_data]    | Downloading package rslp to /root/nltk_data...\n",
            "[nltk_data]    |   Unzipping stemmers/rslp.zip.\n",
            "[nltk_data]    | Downloading package rte to /root/nltk_data...\n",
            "[nltk_data]    |   Unzipping corpora/rte.zip.\n",
            "[nltk_data]    | Downloading package sample_grammars to\n",
            "[nltk_data]    |     /root/nltk_data...\n",
            "[nltk_data]    |   Unzipping grammars/sample_grammars.zip.\n",
            "[nltk_data]    | Downloading package semcor to /root/nltk_data...\n",
            "[nltk_data]    | Downloading package senseval to /root/nltk_data...\n",
            "[nltk_data]    |   Unzipping corpora/senseval.zip.\n",
            "[nltk_data]    | Downloading package sentence_polarity to\n",
            "[nltk_data]    |     /root/nltk_data...\n",
            "[nltk_data]    |   Unzipping corpora/sentence_polarity.zip.\n",
            "[nltk_data]    | Downloading package sentiwordnet to\n",
            "[nltk_data]    |     /root/nltk_data...\n",
            "[nltk_data]    |   Unzipping corpora/sentiwordnet.zip.\n",
            "[nltk_data]    | Downloading package shakespeare to /root/nltk_data...\n",
            "[nltk_data]    |   Unzipping corpora/shakespeare.zip.\n",
            "[nltk_data]    | Downloading package sinica_treebank to\n",
            "[nltk_data]    |     /root/nltk_data...\n",
            "[nltk_data]    |   Unzipping corpora/sinica_treebank.zip.\n",
            "[nltk_data]    | Downloading package smultron to /root/nltk_data...\n",
            "[nltk_data]    |   Unzipping corpora/smultron.zip.\n",
            "[nltk_data]    | Downloading package snowball_data to\n",
            "[nltk_data]    |     /root/nltk_data...\n",
            "[nltk_data]    | Downloading package spanish_grammars to\n",
            "[nltk_data]    |     /root/nltk_data...\n",
            "[nltk_data]    |   Unzipping grammars/spanish_grammars.zip.\n",
            "[nltk_data]    | Downloading package state_union to /root/nltk_data...\n",
            "[nltk_data]    |   Unzipping corpora/state_union.zip.\n",
            "[nltk_data]    | Downloading package stopwords to /root/nltk_data...\n",
            "[nltk_data]    |   Unzipping corpora/stopwords.zip.\n",
            "[nltk_data]    | Downloading package subjectivity to\n",
            "[nltk_data]    |     /root/nltk_data...\n",
            "[nltk_data]    |   Unzipping corpora/subjectivity.zip.\n",
            "[nltk_data]    | Downloading package swadesh to /root/nltk_data...\n",
            "[nltk_data]    |   Unzipping corpora/swadesh.zip.\n",
            "[nltk_data]    | Downloading package switchboard to /root/nltk_data...\n",
            "[nltk_data]    |   Unzipping corpora/switchboard.zip.\n",
            "[nltk_data]    | Downloading package tagsets to /root/nltk_data...\n",
            "[nltk_data]    |   Unzipping help/tagsets.zip.\n",
            "[nltk_data]    | Downloading package timit to /root/nltk_data...\n",
            "[nltk_data]    |   Unzipping corpora/timit.zip.\n",
            "[nltk_data]    | Downloading package toolbox to /root/nltk_data...\n",
            "[nltk_data]    |   Unzipping corpora/toolbox.zip.\n",
            "[nltk_data]    | Downloading package treebank to /root/nltk_data...\n",
            "[nltk_data]    |   Unzipping corpora/treebank.zip.\n",
            "[nltk_data]    | Downloading package twitter_samples to\n",
            "[nltk_data]    |     /root/nltk_data...\n",
            "[nltk_data]    |   Unzipping corpora/twitter_samples.zip.\n",
            "[nltk_data]    | Downloading package udhr to /root/nltk_data...\n",
            "[nltk_data]    |   Unzipping corpora/udhr.zip.\n",
            "[nltk_data]    | Downloading package udhr2 to /root/nltk_data...\n",
            "[nltk_data]    |   Unzipping corpora/udhr2.zip.\n",
            "[nltk_data]    | Downloading package unicode_samples to\n",
            "[nltk_data]    |     /root/nltk_data...\n",
            "[nltk_data]    |   Unzipping corpora/unicode_samples.zip.\n",
            "[nltk_data]    | Downloading package universal_tagset to\n",
            "[nltk_data]    |     /root/nltk_data...\n",
            "[nltk_data]    |   Unzipping taggers/universal_tagset.zip.\n",
            "[nltk_data]    | Downloading package universal_treebanks_v20 to\n",
            "[nltk_data]    |     /root/nltk_data...\n",
            "[nltk_data]    | Downloading package vader_lexicon to\n",
            "[nltk_data]    |     /root/nltk_data...\n",
            "[nltk_data]    | Downloading package verbnet to /root/nltk_data...\n",
            "[nltk_data]    |   Unzipping corpora/verbnet.zip.\n",
            "[nltk_data]    | Downloading package verbnet3 to /root/nltk_data...\n",
            "[nltk_data]    |   Unzipping corpora/verbnet3.zip.\n",
            "[nltk_data]    | Downloading package webtext to /root/nltk_data...\n",
            "[nltk_data]    |   Unzipping corpora/webtext.zip.\n",
            "[nltk_data]    | Downloading package wmt15_eval to /root/nltk_data...\n",
            "[nltk_data]    |   Unzipping models/wmt15_eval.zip.\n",
            "[nltk_data]    | Downloading package word2vec_sample to\n",
            "[nltk_data]    |     /root/nltk_data...\n",
            "[nltk_data]    |   Unzipping models/word2vec_sample.zip.\n",
            "[nltk_data]    | Downloading package wordnet to /root/nltk_data...\n",
            "[nltk_data]    | Downloading package wordnet2021 to /root/nltk_data...\n",
            "[nltk_data]    | Downloading package wordnet31 to /root/nltk_data...\n",
            "[nltk_data]    | Downloading package wordnet_ic to /root/nltk_data...\n",
            "[nltk_data]    |   Unzipping corpora/wordnet_ic.zip.\n",
            "[nltk_data]    | Downloading package words to /root/nltk_data...\n",
            "[nltk_data]    |   Unzipping corpora/words.zip.\n",
            "[nltk_data]    | Downloading package ycoe to /root/nltk_data...\n",
            "[nltk_data]    |   Unzipping corpora/ycoe.zip.\n",
            "[nltk_data]    | \n",
            "[nltk_data]  Done downloading collection all\n",
            "[nltk_data] Downloading package stopwords to /root/nltk_data...\n",
            "[nltk_data]   Package stopwords is already up-to-date!\n"
          ]
        },
        {
          "output_type": "execute_result",
          "data": {
            "text/plain": [
              "True"
            ]
          },
          "metadata": {},
          "execution_count": 2
        }
      ]
    },
    {
      "cell_type": "markdown",
      "source": [
        "# Criando as stopwords em português e inglês"
      ],
      "metadata": {
        "id": "pO-4jjdspkWC"
      }
    },
    {
      "cell_type": "code",
      "source": [
        "english_stopwords = nltk.corpus.stopwords.words('english')\n",
        "portuguese_stopwords = nltk.corpus.stopwords.words('portuguese')\n",
        "spanish_stopwords = nltk.corpus.stopwords.words('spanish')\n",
        "\n",
        "# Adiciona algumas stopwords em português para tratar algumas divergências analíticas\n",
        "add_stopwords_pt = ['capitulo', 'capítulo']\n",
        "portuguese_stopwords.extend(add_stopwords_pt)"
      ],
      "metadata": {
        "id": "_wUeiERCBAS4"
      },
      "execution_count": 40,
      "outputs": []
    },
    {
      "cell_type": "markdown",
      "source": [
        "# Criando a função de processamento de texto\n",
        "\n",
        "O objetivo dessa função e remover as quebras de linhas e alguns caracteres especiais que não foram removidos com o decode"
      ],
      "metadata": {
        "id": "D1zIYRgHp4yp"
      }
    },
    {
      "cell_type": "code",
      "source": [
        "def processing_text(str_text, _stopwords):\n",
        "  for i in string.punctuation:\n",
        "    str_text = str_text.lower().replace(i, '')\n",
        "\n",
        "  text_format = str_text.replace('\\n', ' ').replace('\\x97', '').split(' ')\n",
        "  #text_format = str_text.split(' ')\n",
        "\n",
        "  no_stopwords = [words for words in text_format if words not in _stopwords]\n",
        "\n",
        "  return(' '.join(no_stopwords))"
      ],
      "metadata": {
        "id": "m8j3FqMSAr-1"
      },
      "execution_count": 69,
      "outputs": []
    },
    {
      "cell_type": "markdown",
      "source": [
        "# Escolhendo os textos a serem utilizados na função de processamento\n",
        "\n",
        "Foram utilizadas as obras Shakespeare Caesar e Machado de Assis - Memórias Póstumas de Brás Cubas (1881)"
      ],
      "metadata": {
        "id": "bs6TurNFp-kv"
      }
    },
    {
      "cell_type": "code",
      "source": [
        "shakespeare_caesar = nltk.corpus.gutenberg.raw('shakespeare-caesar.txt').encode(\"UTF-8\")\n",
        "obra_machado = nltk.corpus.machado.raw('romance/marm05.txt').encode(\"UTF-8\")\n",
        "\n",
        "sc_format = processing_text(shakespeare_caesar.decode(\"UTF-8\"), english_stopwords)\n",
        "\n",
        "om_format = processing_text(obra_machado.decode(\"UTF-8\"), portuguese_stopwords)"
      ],
      "metadata": {
        "id": "uww7bkPmB7uy"
      },
      "execution_count": 70,
      "outputs": []
    },
    {
      "cell_type": "markdown",
      "source": [
        "# Tokenização dos textos\n",
        "\n",
        "A tokenização, também conhecida como segmentação de palavras, é responsável por quebrar as palavras de cada texto analisado, ou seja, ele identifica o início e o término das palavras do texto e faz a divisão.\n",
        "\n",
        "- Exemplo sem tokenização: \"Ontem choveu muito em minha cidade\"\n",
        "\n",
        "- Texto tokenizado: \"Ontem\", \"choveu\", \"muito\", \"em\", \"minha\", \"cidade\""
      ],
      "metadata": {
        "id": "uQ_zmMHYDCBB"
      }
    },
    {
      "cell_type": "code",
      "source": [
        "tokens_shakespeare = nltk.tokenize.word_tokenize(sc_format)\n",
        "tokens_machado = nltk.tokenize.word_tokenize(om_format)"
      ],
      "metadata": {
        "id": "OGFXuEUIDIuO"
      },
      "execution_count": 71,
      "outputs": []
    },
    {
      "cell_type": "markdown",
      "source": [
        "# Análise de frequência de palavras\n",
        "\n",
        "Uma distribuição de frequência pode ser usada para registrar a frequência de cada tipo de palavra em um documento, ou seja, essa função tem por objetivo calcular a inscidencia de vezes que uma palavra foi mencionada em um texto, documento, string."
      ],
      "metadata": {
        "id": "hoLpTQtYDjLf"
      }
    },
    {
      "cell_type": "code",
      "source": [
        "prob_shakespeare = nltk.probability.FreqDist(tokens_shakespeare)\n",
        "prob_machado = nltk.probability.FreqDist(tokens_machado)"
      ],
      "metadata": {
        "id": "GcFtzWrxDvd3"
      },
      "execution_count": 72,
      "outputs": []
    },
    {
      "cell_type": "markdown",
      "source": [
        "# Print das 10 palavras que mais se repetem nos textos"
      ],
      "metadata": {
        "id": "d7OiVzajqEUd"
      }
    },
    {
      "cell_type": "code",
      "source": [
        "print(prob_shakespeare.most_common(10))\n",
        "print(prob_machado.most_common(10))"
      ],
      "metadata": {
        "colab": {
          "base_uri": "https://localhost:8080/"
        },
        "id": "fMeW2xivcug9",
        "outputId": "20cad0b4-e07d-4005-d21b-1ecb19a272be"
      },
      "execution_count": 73,
      "outputs": [
        {
          "output_type": "stream",
          "name": "stdout",
          "text": [
            "[('caesar', 190), ('brutus', 161), ('bru', 153), ('haue', 147), ('shall', 125), ('thou', 115), ('cassi', 107), ('cassius', 85), ('antony', 75), ('come', 74)]\n",
            "[('virgília', 202), ('coisa', 147), ('olhos', 138), ('disse', 130), ('nada', 126), ('outro', 124), ('vida', 118), ('outra', 116), ('tempo', 114), ('porque', 113)]\n"
          ]
        }
      ]
    },
    {
      "cell_type": "markdown",
      "source": [
        "# Palavra que mais se repete"
      ],
      "metadata": {
        "id": "BC6IrUI7qIXP"
      }
    },
    {
      "cell_type": "code",
      "source": [
        "print('Palavra que mais se repete no texto de Shakespeare Caesar: ' + prob_shakespeare.max())\n",
        "print('Palavra que mais se repete no texto do Machado de Assis - Memórias Póstumas de Brás Cubas (1881): ' + prob_machado.max())"
      ],
      "metadata": {
        "colab": {
          "base_uri": "https://localhost:8080/"
        },
        "id": "azrebwAWc-M9",
        "outputId": "aecb965c-ae13-4159-b0ee-6f98dd4bdb45"
      },
      "execution_count": 44,
      "outputs": [
        {
          "output_type": "stream",
          "name": "stdout",
          "text": [
            "Palavra que mais se repete no texto de Shakespeare Caesar: caesar\n",
            "Palavra que mais se repete no texto do Machado de Assis - Memórias Póstumas de Brás Cubas (1881): virgília\n"
          ]
        }
      ]
    },
    {
      "cell_type": "markdown",
      "source": [
        "# Plot de 20 palavras que mais se repete nas obras"
      ],
      "metadata": {
        "id": "03CwNLTksXC4"
      }
    },
    {
      "cell_type": "code",
      "source": [
        "prob_shakespeare.plot(20, title='Frequency of Words - Shakespeare')"
      ],
      "metadata": {
        "colab": {
          "base_uri": "https://localhost:8080/",
          "height": 339
        },
        "id": "-vOVfH-ZdF3_",
        "outputId": "941eeda3-9e47-417e-f7d5-f1dceaf32b40"
      },
      "execution_count": 45,
      "outputs": [
        {
          "output_type": "display_data",
          "data": {
            "text/plain": [
              "<Figure size 432x288 with 1 Axes>"
            ],
            "image/png": "[encoded data removed]"
          },
          "metadata": {
            "needs_background": "light"
          }
        },
        {
          "output_type": "execute_result",
          "data": {
            "text/plain": [
              "<matplotlib.axes._subplots.AxesSubplot at 0x7f22efb95f50>"
            ]
          },
          "metadata": {},
          "execution_count": 45
        }
      ]
    },
    {
      "cell_type": "code",
      "source": [
        "prob_machado.plot(20, title='Frequency of Words - Machado de Assis')"
      ],
      "metadata": {
        "colab": {
          "base_uri": "https://localhost:8080/",
          "height": 340
        },
        "id": "l8iCc8DQo2Rn",
        "outputId": "c6dcda8a-ad6e-42b9-cd41-b5813cacd0ac"
      },
      "execution_count": 46,
      "outputs": [
        {
          "output_type": "display_data",
          "data": {
            "text/plain": [
              "<Figure size 432x288 with 1 Axes>"
            ],
            "image/png": "[encoded data removed]"
          },
          "metadata": {
            "needs_background": "light"
          }
        },
        {
          "output_type": "execute_result",
          "data": {
            "text/plain": [
              "<matplotlib.axes._subplots.AxesSubplot at 0x7f22efa0b9d0>"
            ]
          },
          "metadata": {},
          "execution_count": 46
        }
      ]
    },
    {
      "cell_type": "code",
      "source": [
        "analytics_shakespeare = nltk.Text(tokens_shakespeare)\n",
        "analytics_machado = nltk.Text(tokens_machado)"
      ],
      "metadata": {
        "id": "c7I4fTgTo9Cr"
      },
      "execution_count": 47,
      "outputs": []
    },
    {
      "cell_type": "markdown",
      "source": [
        "# Palavras similares"
      ],
      "metadata": {
        "id": "dKtRctPzvSoJ"
      }
    },
    {
      "cell_type": "code",
      "source": [
        "analytics_machado.similar('virgília')"
      ],
      "metadata": {
        "colab": {
          "base_uri": "https://localhost:8080/"
        },
        "id": "K0YdVQ_WuHLb",
        "outputId": "5483294c-59c7-4b19-9b66-d230f84a509d"
      },
      "execution_count": 59,
      "outputs": [
        {
          "output_type": "stream",
          "name": "stdout",
          "text": [
            "disse medo quê superficial\n"
          ]
        }
      ]
    },
    {
      "cell_type": "code",
      "source": [
        "analytics_shakespeare.similar('caesar')"
      ],
      "metadata": {
        "colab": {
          "base_uri": "https://localhost:8080/"
        },
        "id": "GFlNsIhRucXx",
        "outputId": "2e3611d1-c41c-452f-fddf-830f4a0578eb"
      },
      "execution_count": 49,
      "outputs": [
        {
          "output_type": "stream",
          "name": "stdout",
          "text": [
            "enter know would antony heere bid loue bru please mark affraid liuing\n",
            "octauius rose\n"
          ]
        }
      ]
    },
    {
      "cell_type": "markdown",
      "source": [
        "# Palavras dentro de diferentes contextos\n",
        "\n",
        "Para isso, vamos pegar a segunda palavra que mais se repete em ambas as obras"
      ],
      "metadata": {
        "id": "trK2FNB5_dDp"
      }
    },
    {
      "cell_type": "code",
      "source": [
        "analytics_machado.concordance('coisa')"
      ],
      "metadata": {
        "colab": {
          "base_uri": "https://localhost:8080/"
        },
        "id": "aQq8pXxu_qMl",
        "outputId": "d2086c18-6c3a-412b-92a9-c8e694113141"
      },
      "execution_count": 67,
      "outputs": [
        {
          "output_type": "stream",
          "name": "stdout",
          "text": [
            "Displaying 25 of 147 matches:\n",
            "terceira edição emendei ainda alguma coisa suprimi duas três dúzias linhas assi\n",
            "fessasse escrito livros cem leitores coisa admira consterna admira provavelment\n",
            "o deixasse rolar chão convulsa óbito coisa altamente dramática solteirão expira\n",
            "al corpo faziaseme planta pedra lodo coisa nenhuma morri pneumonia disser menos\n",
            "ntigos terços infantaria amor glória coisa verdadeiramente humana homem consegu\n",
            "igual agora austera logo brincalhona coisa edifica destrói inflama regala todav\n",
            "a origem nilo sobretudo valia alguma coisa menos consumação mesmos séculos refl\n",
            "enlouqueci passas concepção alienado coisa vã razão ausente pode reger palpar n\n",
            "e tempo largo longe através nevoeiro coisa única imagina leitor redução séculos\n",
            "a diante mim flagelos delícias desde coisa chama glória outra chama miséria via\n",
            "escompassado idiota tens razão disse coisa divertida vale pena talvez monótona \n",
            "amos lá pandora abre ventre digereme coisa divertida digereme resposta compelir\n",
            "tos razão pôsse rir hás sempre mesma coisa sempre mesma coisa sempre mesma cois\n",
            " hás sempre mesma coisa sempre mesma coisa sempre mesma coisa dizendo travoulhe\n",
            "oisa sempre mesma coisa sempre mesma coisa dizendo travoulhe pulsos arrastoua e\n",
            "ez método verdade tempo método sendo coisa indispensável todavia melhor têlo gr\n",
            "taria achavame certo olhar bonaparte coisa pai pôde ouvir náuseas tio ildefonso\n",
            "s destinasse bispado verdade bispado coisa impossível diz mano bento pai respon\n",
            "menino diabo verdadeiramente outra coisa malignos tempo arguto indiscreto tra\n",
            "uas criaturas nasceu educação alguma coisa boa geral viciosa incompleta partes \n",
            "se vingança qualquer grande exemplar coisa alguma maneira tornasse ridículo hom\n",
            "a rabo papel rabicho cabeleira havia coisa pior entrei espreitálo durante resto\n",
            "a senão toda cidade mãe viúva alguma coisa adorava filho traziao amimado assead\n",
            "po esbelto ondulante desgarre alguma coisa nunca achara mulheres puras segueme \n",
            "imperioso estouvado tudo levou fazer coisa única saída porta rua disse tio espe\n"
          ]
        }
      ]
    },
    {
      "cell_type": "code",
      "source": [
        "analytics_shakespeare.concordance('brutus')"
      ],
      "metadata": {
        "colab": {
          "base_uri": "https://localhost:8080/"
        },
        "id": "jOnRpXhG_x6w",
        "outputId": "a925fded-2483-48b9-ec35-307ed216f9ad"
      },
      "execution_count": 68,
      "outputs": [
        {
          "output_type": "stream",
          "name": "stdout",
          "text": [
            "Displaying 25 of 161 matches:\n",
            "rse calphurnia portia decius cicero brutus cassius caska soothsayer murellus f\n",
            "der cassius desires ile leaue cassi brutus obserue late haue eyes gentlenesse \n",
            " cassius one construe neglect poore brutus himselfe warre forgets shewes loue \n",
            "warre forgets shewes loue men cassi brutus haue much mistook passion meanes wh\n",
            " value worthy cogitations tell good brutus see face brutus cassius eye sees se\n",
            "gitations tell good brutus see face brutus cassius eye sees selfe reflection t\n",
            "ings cassius tis iust much lamented brutus haue mirrors turne hidden worthines\n",
            "me except immortall caesar speaking brutus groaning vnderneath ages yoake haue\n",
            "erneath ages yoake haue wishd noble brutus eyes bru dangers would leade cassiu\n",
            "haue seeke selfe cas therefore good brutus prepard heare since know can not se\n",
            "selfe selfe yet know iealous gentle brutus common laughter vse stale ordinary \n",
            "honor feare death cassi know vertue brutus well know outward fauour well honor\n",
            " sometime masters fates fault deere brutus starres selues vnderlings brutus ca\n",
            "re brutus starres selues vnderlings brutus caesar caesar name sounded write to\n",
            "mouth aswell weigh heauy coniure em brutus start spirit soone caesar names god\n",
            "ne onely man haue heard fathers say brutus would haue brookd th eternall diuel\n",
            " things till noble friend chew vpon brutus rather villager repute himselfe son\n",
            "ds haue strucke thus much shew fire brutus enter caesar traine bru games done \n",
            "it cassi doe till thinke world exit brutus well brutus thou art noble yet see \n",
            " till thinke world exit brutus well brutus thou art noble yet see thy honorabl\n",
            "seducd caesar doth beare hard loues brutus brutus cassius humor night seuerall\n",
            "caesar doth beare hard loues brutus brutus cassius humor night seuerall hands \n",
            "cinna yes cassius could winne noble brutus party cassi content good cinna take\n",
            "take paper looke lay pretors chayre brutus may finde throw window set vp waxe \n",
            "e throw window set vp waxe vpon old brutus statue done repaire pompeyes porch \n"
          ]
        }
      ]
    },
    {
      "cell_type": "markdown",
      "source": [
        "# Bigramas de texto"
      ],
      "metadata": {
        "id": "iebiVRt0vVoF"
      }
    },
    {
      "cell_type": "code",
      "source": [
        "analytics_machado.collocations()"
      ],
      "metadata": {
        "colab": {
          "base_uri": "https://localhost:8080/"
        },
        "id": "r17TVAikvILf",
        "outputId": "33b29cc2-bf28-42ae-8812-156221345d89"
      },
      "execution_count": null,
      "outputs": [
        {
          "output_type": "stream",
          "name": "stdout",
          "text": [
            "quincas borba; lobo neves; brás cubas; alguma coisa; dia seguinte;\n",
            "outra vez; alguns instantes; cinco contos; rio janeiro; outra coisa;\n",
            "mesma coisa; muitas vezes; coisa nenhuma; nesta página; meia dobra;\n",
            "idéia fixa; alma sensível; ponta nariz; tio joão; arma virumque\n"
          ]
        }
      ]
    },
    {
      "cell_type": "code",
      "source": [
        "analytics_shakespeare.collocations()"
      ],
      "metadata": {
        "colab": {
          "base_uri": "https://localhost:8080/"
        },
        "id": "oqvmiK7cvZyw",
        "outputId": "9f40042f-360e-42e9-fcfd-85d399d09e34"
      },
      "execution_count": null,
      "outputs": [
        {
          "output_type": "stream",
          "name": "stdout",
          "text": [
            "mark antony; marke antony; ides march; thou art; thou hast; good\n",
            "morrow; caius ligarius; metellus cymber; art thou; exeunt manet; mine\n",
            "owne; varrus claudio; fell downe; lord bru; good night; haue seene;\n",
            "enter lucius; beware ides; would haue; shall finde\n"
          ]
        }
      ]
    },
    {
      "cell_type": "markdown",
      "source": [
        "# Teste de leitura de informações coletadas em um site"
      ],
      "metadata": {
        "id": "68nM0NEQ87di"
      }
    },
    {
      "cell_type": "code",
      "source": [
        "text_web = urllib.request.urlopen(\"https://www.gutenberg.org/files/45438/45438-8.txt\").read()\n",
        "\n",
        "book_la_isla_del_tesoro = processing_text(str(text_web, 'latin1'), spanish_stopwords)\n",
        "\n",
        "print(string.punctuation)"
      ],
      "metadata": {
        "colab": {
          "base_uri": "https://localhost:8080/"
        },
        "id": "kBhGnp0B3Z7k",
        "outputId": "5b17f5ca-57e8-491b-b3e6-cd7ab9ade0ec"
      },
      "execution_count": null,
      "outputs": [
        {
          "output_type": "stream",
          "name": "stdout",
          "text": [
            "!\"#$%&'()*+,-./:;<=>?@[\\]^_`{|}~\n"
          ]
        }
      ]
    }
  ]
}